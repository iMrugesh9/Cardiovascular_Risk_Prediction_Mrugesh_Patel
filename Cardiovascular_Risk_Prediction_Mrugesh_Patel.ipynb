{
  "nbformat": 4,
  "nbformat_minor": 0,
  "metadata": {
    "colab": {
      "name": "Cardiovascular_Risk_Prediction_Mrugesh_Patel.ipynb",
      "provenance": [],
      "toc_visible": true,
      "authorship_tag": "ABX9TyOrsphoqwAviMmEAVOTby4x",
      "include_colab_link": true
    },
    "kernelspec": {
      "name": "python3",
      "display_name": "Python 3"
    },
    "language_info": {
      "name": "python"
    }
  },
  "cells": [
    {
      "cell_type": "markdown",
      "metadata": {
        "id": "view-in-github",
        "colab_type": "text"
      },
      "source": [
        "<a href=\"https://colab.research.google.com/github/iMrugesh9/Cardiovascular_Risk_Prediction_Mrugesh_Patel/blob/main/Cardiovascular_Risk_Prediction_Mrugesh_Patel.ipynb\" target=\"_parent\"><img src=\"https://colab.research.google.com/assets/colab-badge.svg\" alt=\"Open In Colab\"/></a>"
      ]
    },
    {
      "cell_type": "markdown",
      "source": [
        "# Problem Description"
      ],
      "metadata": {
        "id": "XzuSP0MU3phP"
      }
    },
    {
      "cell_type": "markdown",
      "source": [
        "The dataset is from an ongoing cardiovascular study on residents of the town of Framingham,\n",
        "Massachusetts. The classification goal is to predict whether the patient has a 10-year risk of\n",
        "future coronary heart disease (CHD). The dataset provides the patients’ information. It includes\n",
        "over 4,000 records and 15 attributes.\n",
        "\n",
        "\n",
        "\n",
        "\n"
      ],
      "metadata": {
        "id": "wooeyKpj3t0D"
      }
    },
    {
      "cell_type": "markdown",
      "source": [
        "As the prediction made is whether a person is diagnosed with CardioVascular heart disease, it is very vital to predict the outcome accurately. Especially predicting the class '*YES(1)*' accurately with as less false negatives as possible (predicting NO for actual YES) is very necessary.\n",
        "\n",
        "\n",
        "Recall Score is one important metric to identify the effect of false negatives while predicting. F1 score is also important metric, because it considers both precision and recall.\n",
        "\n"
      ],
      "metadata": {
        "id": "7CSuPwh8gw-7"
      }
    },
    {
      "cell_type": "markdown",
      "source": [
        "\\begin{align}\n",
        "\\mathbf{Recall}=\\frac{True Positive}{True Positive+False Negative}\n",
        "\\\\\\\\\\\\\n",
        "\\end{align}\n",
        "\n",
        "\n",
        "\\begin{align}\n",
        "f1=\\frac{2*True Positive}{True Positive+0.5(False Negative+False Negative)}\n",
        "\\end{align}"
      ],
      "metadata": {
        "id": "d4lyw-eitPqe"
      }
    },
    {
      "cell_type": "markdown",
      "source": [
        "So the problem statement for the project is that to get the recall score and f1 score as high as possible for test dataset, ideally 1.0. So we need to formulate a model with atleast 0.95 recall score and f1 score."
      ],
      "metadata": {
        "id": "Qk6O0fwqtT-i"
      }
    },
    {
      "cell_type": "code",
      "source": [
        "# importing required libraries\n",
        "import numpy as np\n",
        "import pandas as pd\n",
        "import matplotlib.pyplot as plt\n",
        "import seaborn as sns\n",
        "from scipy import stats\n",
        "import warnings\n",
        "import missingno as msno\n",
        "warnings.filterwarnings('ignore')\n",
        "from google.colab import data_table\n",
        "from scipy import stats\n",
        "from numpy import math\n",
        "from scipy.stats import zscore\n",
        "from sklearn.preprocessing import MinMaxScaler\n",
        "from sklearn.model_selection import train_test_split\n",
        "from scipy.stats import pointbiserialr\n",
        "from scipy.stats import chi2_contingency\n",
        "\n",
        "\n",
        "from sklearn.ensemble import RandomForestClassifier\n",
        "from sklearn.ensemble import GradientBoostingClassifier\n",
        "from sklearn.model_selection import GridSearchCV\n",
        "from sklearn.metrics import roc_auc_score,f1_score\n",
        "from sklearn.metrics import recall_score,classification_report\n",
        "from sklearn.metrics import accuracy_score, confusion_matrix\n",
        "from sklearn.metrics import ConfusionMatrixDisplay\n",
        "\n",
        "from sklearn.linear_model import LogisticRegression\n",
        "from sklearn.linear_model import LogisticRegressionCV\n",
        "from sklearn.model_selection import GridSearchCV\n",
        "\n",
        "from imblearn.over_sampling import SMOTE \n",
        "from imblearn.under_sampling import RandomUnderSampler \n",
        "from imblearn.pipeline import Pipeline,make_pipeline\n",
        "\n",
        "from sklearn.svm import SVC\n",
        "from sklearn.neighbors import KNeighborsClassifier\n",
        "from sklearn.naive_bayes import GaussianNB\n",
        "from xgboost import XGBClassifier\n",
        "from sklearn.ensemble import AdaBoostClassifier\n",
        "from sklearn.model_selection import RepeatedStratifiedKFold\n",
        "from sklearn.metrics import precision_recall_curve\n",
        "from sklearn.inspection import permutation_importance\n"
      ],
      "metadata": {
        "id": "38gnhMr_css3"
      },
      "execution_count": 1,
      "outputs": []
    },
    {
      "cell_type": "markdown",
      "source": [
        "# Data Exploration"
      ],
      "metadata": {
        "id": "TFbSmZE4yjmt"
      }
    },
    {
      "cell_type": "code",
      "source": [
        "# mounting google drive\n",
        "from google.colab import drive\n",
        "drive.mount('/content/drive')      "
      ],
      "metadata": {
        "colab": {
          "base_uri": "https://localhost:8080/"
        },
        "id": "5qpkaTQ2csLe",
        "outputId": "12345687-f208-4eec-dc77-6c4950fec803"
      },
      "execution_count": 2,
      "outputs": [
        {
          "output_type": "stream",
          "name": "stdout",
          "text": [
            "Mounted at /content/drive\n"
          ]
        }
      ]
    },
    {
      "cell_type": "code",
      "source": [
        "# loading data\n",
        "Dataset=pd.read_csv('/content/drive/MyDrive/Datasets/data_cardiovascular_risk.csv')"
      ],
      "metadata": {
        "id": "ar8CE1HzdoV5"
      },
      "execution_count": 3,
      "outputs": []
    },
    {
      "cell_type": "code",
      "source": [
        "# dataset head\n",
        "Dataset.head(10)"
      ],
      "metadata": {
        "colab": {
          "base_uri": "https://localhost:8080/",
          "height": 427
        },
        "id": "pMtD8wSVd0MC",
        "outputId": "b8b2c6b9-4d60-4d15-89e8-9e9ba8f14fae"
      },
      "execution_count": 4,
      "outputs": [
        {
          "output_type": "execute_result",
          "data": {
            "text/plain": [
              "   id  age  education sex is_smoking  cigsPerDay  BPMeds  prevalentStroke  \\\n",
              "0   0   64        2.0   F        YES         3.0     0.0                0   \n",
              "1   1   36        4.0   M         NO         0.0     0.0                0   \n",
              "2   2   46        1.0   F        YES        10.0     0.0                0   \n",
              "3   3   50        1.0   M        YES        20.0     0.0                0   \n",
              "4   4   64        1.0   F        YES        30.0     0.0                0   \n",
              "5   5   61        3.0   F         NO         0.0     0.0                0   \n",
              "6   6   61        1.0   M         NO         0.0     0.0                0   \n",
              "7   7   36        4.0   M        YES        35.0     0.0                0   \n",
              "8   8   41        2.0   F        YES        20.0     NaN                0   \n",
              "9   9   55        2.0   F         NO         0.0     0.0                0   \n",
              "\n",
              "   prevalentHyp  diabetes  totChol  sysBP  diaBP    BMI  heartRate  glucose  \\\n",
              "0             0         0    221.0  148.0   85.0    NaN       90.0     80.0   \n",
              "1             1         0    212.0  168.0   98.0  29.77       72.0     75.0   \n",
              "2             0         0    250.0  116.0   71.0  20.35       88.0     94.0   \n",
              "3             1         0    233.0  158.0   88.0  28.26       68.0     94.0   \n",
              "4             0         0    241.0  136.5   85.0  26.42       70.0     77.0   \n",
              "5             1         0    272.0  182.0  121.0  32.80       85.0     65.0   \n",
              "6             1         0    238.0  232.0  136.0  24.83       75.0     79.0   \n",
              "7             0         0    295.0  102.0   68.0  28.15       60.0     63.0   \n",
              "8             0         0    220.0  126.0   78.0  20.70       86.0     79.0   \n",
              "9             1         0    326.0  144.0   81.0  25.71       85.0      NaN   \n",
              "\n",
              "   TenYearCHD  \n",
              "0           1  \n",
              "1           0  \n",
              "2           0  \n",
              "3           1  \n",
              "4           0  \n",
              "5           1  \n",
              "6           0  \n",
              "7           0  \n",
              "8           0  \n",
              "9           0  "
            ],
            "text/html": [
              "\n",
              "  <div id=\"df-4692eb3f-1d14-4dd3-8902-9b824a5f77f4\">\n",
              "    <div class=\"colab-df-container\">\n",
              "      <div>\n",
              "<style scoped>\n",
              "    .dataframe tbody tr th:only-of-type {\n",
              "        vertical-align: middle;\n",
              "    }\n",
              "\n",
              "    .dataframe tbody tr th {\n",
              "        vertical-align: top;\n",
              "    }\n",
              "\n",
              "    .dataframe thead th {\n",
              "        text-align: right;\n",
              "    }\n",
              "</style>\n",
              "<table border=\"1\" class=\"dataframe\">\n",
              "  <thead>\n",
              "    <tr style=\"text-align: right;\">\n",
              "      <th></th>\n",
              "      <th>id</th>\n",
              "      <th>age</th>\n",
              "      <th>education</th>\n",
              "      <th>sex</th>\n",
              "      <th>is_smoking</th>\n",
              "      <th>cigsPerDay</th>\n",
              "      <th>BPMeds</th>\n",
              "      <th>prevalentStroke</th>\n",
              "      <th>prevalentHyp</th>\n",
              "      <th>diabetes</th>\n",
              "      <th>totChol</th>\n",
              "      <th>sysBP</th>\n",
              "      <th>diaBP</th>\n",
              "      <th>BMI</th>\n",
              "      <th>heartRate</th>\n",
              "      <th>glucose</th>\n",
              "      <th>TenYearCHD</th>\n",
              "    </tr>\n",
              "  </thead>\n",
              "  <tbody>\n",
              "    <tr>\n",
              "      <th>0</th>\n",
              "      <td>0</td>\n",
              "      <td>64</td>\n",
              "      <td>2.0</td>\n",
              "      <td>F</td>\n",
              "      <td>YES</td>\n",
              "      <td>3.0</td>\n",
              "      <td>0.0</td>\n",
              "      <td>0</td>\n",
              "      <td>0</td>\n",
              "      <td>0</td>\n",
              "      <td>221.0</td>\n",
              "      <td>148.0</td>\n",
              "      <td>85.0</td>\n",
              "      <td>NaN</td>\n",
              "      <td>90.0</td>\n",
              "      <td>80.0</td>\n",
              "      <td>1</td>\n",
              "    </tr>\n",
              "    <tr>\n",
              "      <th>1</th>\n",
              "      <td>1</td>\n",
              "      <td>36</td>\n",
              "      <td>4.0</td>\n",
              "      <td>M</td>\n",
              "      <td>NO</td>\n",
              "      <td>0.0</td>\n",
              "      <td>0.0</td>\n",
              "      <td>0</td>\n",
              "      <td>1</td>\n",
              "      <td>0</td>\n",
              "      <td>212.0</td>\n",
              "      <td>168.0</td>\n",
              "      <td>98.0</td>\n",
              "      <td>29.77</td>\n",
              "      <td>72.0</td>\n",
              "      <td>75.0</td>\n",
              "      <td>0</td>\n",
              "    </tr>\n",
              "    <tr>\n",
              "      <th>2</th>\n",
              "      <td>2</td>\n",
              "      <td>46</td>\n",
              "      <td>1.0</td>\n",
              "      <td>F</td>\n",
              "      <td>YES</td>\n",
              "      <td>10.0</td>\n",
              "      <td>0.0</td>\n",
              "      <td>0</td>\n",
              "      <td>0</td>\n",
              "      <td>0</td>\n",
              "      <td>250.0</td>\n",
              "      <td>116.0</td>\n",
              "      <td>71.0</td>\n",
              "      <td>20.35</td>\n",
              "      <td>88.0</td>\n",
              "      <td>94.0</td>\n",
              "      <td>0</td>\n",
              "    </tr>\n",
              "    <tr>\n",
              "      <th>3</th>\n",
              "      <td>3</td>\n",
              "      <td>50</td>\n",
              "      <td>1.0</td>\n",
              "      <td>M</td>\n",
              "      <td>YES</td>\n",
              "      <td>20.0</td>\n",
              "      <td>0.0</td>\n",
              "      <td>0</td>\n",
              "      <td>1</td>\n",
              "      <td>0</td>\n",
              "      <td>233.0</td>\n",
              "      <td>158.0</td>\n",
              "      <td>88.0</td>\n",
              "      <td>28.26</td>\n",
              "      <td>68.0</td>\n",
              "      <td>94.0</td>\n",
              "      <td>1</td>\n",
              "    </tr>\n",
              "    <tr>\n",
              "      <th>4</th>\n",
              "      <td>4</td>\n",
              "      <td>64</td>\n",
              "      <td>1.0</td>\n",
              "      <td>F</td>\n",
              "      <td>YES</td>\n",
              "      <td>30.0</td>\n",
              "      <td>0.0</td>\n",
              "      <td>0</td>\n",
              "      <td>0</td>\n",
              "      <td>0</td>\n",
              "      <td>241.0</td>\n",
              "      <td>136.5</td>\n",
              "      <td>85.0</td>\n",
              "      <td>26.42</td>\n",
              "      <td>70.0</td>\n",
              "      <td>77.0</td>\n",
              "      <td>0</td>\n",
              "    </tr>\n",
              "    <tr>\n",
              "      <th>5</th>\n",
              "      <td>5</td>\n",
              "      <td>61</td>\n",
              "      <td>3.0</td>\n",
              "      <td>F</td>\n",
              "      <td>NO</td>\n",
              "      <td>0.0</td>\n",
              "      <td>0.0</td>\n",
              "      <td>0</td>\n",
              "      <td>1</td>\n",
              "      <td>0</td>\n",
              "      <td>272.0</td>\n",
              "      <td>182.0</td>\n",
              "      <td>121.0</td>\n",
              "      <td>32.80</td>\n",
              "      <td>85.0</td>\n",
              "      <td>65.0</td>\n",
              "      <td>1</td>\n",
              "    </tr>\n",
              "    <tr>\n",
              "      <th>6</th>\n",
              "      <td>6</td>\n",
              "      <td>61</td>\n",
              "      <td>1.0</td>\n",
              "      <td>M</td>\n",
              "      <td>NO</td>\n",
              "      <td>0.0</td>\n",
              "      <td>0.0</td>\n",
              "      <td>0</td>\n",
              "      <td>1</td>\n",
              "      <td>0</td>\n",
              "      <td>238.0</td>\n",
              "      <td>232.0</td>\n",
              "      <td>136.0</td>\n",
              "      <td>24.83</td>\n",
              "      <td>75.0</td>\n",
              "      <td>79.0</td>\n",
              "      <td>0</td>\n",
              "    </tr>\n",
              "    <tr>\n",
              "      <th>7</th>\n",
              "      <td>7</td>\n",
              "      <td>36</td>\n",
              "      <td>4.0</td>\n",
              "      <td>M</td>\n",
              "      <td>YES</td>\n",
              "      <td>35.0</td>\n",
              "      <td>0.0</td>\n",
              "      <td>0</td>\n",
              "      <td>0</td>\n",
              "      <td>0</td>\n",
              "      <td>295.0</td>\n",
              "      <td>102.0</td>\n",
              "      <td>68.0</td>\n",
              "      <td>28.15</td>\n",
              "      <td>60.0</td>\n",
              "      <td>63.0</td>\n",
              "      <td>0</td>\n",
              "    </tr>\n",
              "    <tr>\n",
              "      <th>8</th>\n",
              "      <td>8</td>\n",
              "      <td>41</td>\n",
              "      <td>2.0</td>\n",
              "      <td>F</td>\n",
              "      <td>YES</td>\n",
              "      <td>20.0</td>\n",
              "      <td>NaN</td>\n",
              "      <td>0</td>\n",
              "      <td>0</td>\n",
              "      <td>0</td>\n",
              "      <td>220.0</td>\n",
              "      <td>126.0</td>\n",
              "      <td>78.0</td>\n",
              "      <td>20.70</td>\n",
              "      <td>86.0</td>\n",
              "      <td>79.0</td>\n",
              "      <td>0</td>\n",
              "    </tr>\n",
              "    <tr>\n",
              "      <th>9</th>\n",
              "      <td>9</td>\n",
              "      <td>55</td>\n",
              "      <td>2.0</td>\n",
              "      <td>F</td>\n",
              "      <td>NO</td>\n",
              "      <td>0.0</td>\n",
              "      <td>0.0</td>\n",
              "      <td>0</td>\n",
              "      <td>1</td>\n",
              "      <td>0</td>\n",
              "      <td>326.0</td>\n",
              "      <td>144.0</td>\n",
              "      <td>81.0</td>\n",
              "      <td>25.71</td>\n",
              "      <td>85.0</td>\n",
              "      <td>NaN</td>\n",
              "      <td>0</td>\n",
              "    </tr>\n",
              "  </tbody>\n",
              "</table>\n",
              "</div>\n",
              "      <button class=\"colab-df-convert\" onclick=\"convertToInteractive('df-4692eb3f-1d14-4dd3-8902-9b824a5f77f4')\"\n",
              "              title=\"Convert this dataframe to an interactive table.\"\n",
              "              style=\"display:none;\">\n",
              "        \n",
              "  <svg xmlns=\"http://www.w3.org/2000/svg\" height=\"24px\"viewBox=\"0 0 24 24\"\n",
              "       width=\"24px\">\n",
              "    <path d=\"M0 0h24v24H0V0z\" fill=\"none\"/>\n",
              "    <path d=\"M18.56 5.44l.94 2.06.94-2.06 2.06-.94-2.06-.94-.94-2.06-.94 2.06-2.06.94zm-11 1L8.5 8.5l.94-2.06 2.06-.94-2.06-.94L8.5 2.5l-.94 2.06-2.06.94zm10 10l.94 2.06.94-2.06 2.06-.94-2.06-.94-.94-2.06-.94 2.06-2.06.94z\"/><path d=\"M17.41 7.96l-1.37-1.37c-.4-.4-.92-.59-1.43-.59-.52 0-1.04.2-1.43.59L10.3 9.45l-7.72 7.72c-.78.78-.78 2.05 0 2.83L4 21.41c.39.39.9.59 1.41.59.51 0 1.02-.2 1.41-.59l7.78-7.78 2.81-2.81c.8-.78.8-2.07 0-2.86zM5.41 20L4 18.59l7.72-7.72 1.47 1.35L5.41 20z\"/>\n",
              "  </svg>\n",
              "      </button>\n",
              "      \n",
              "  <style>\n",
              "    .colab-df-container {\n",
              "      display:flex;\n",
              "      flex-wrap:wrap;\n",
              "      gap: 12px;\n",
              "    }\n",
              "\n",
              "    .colab-df-convert {\n",
              "      background-color: #E8F0FE;\n",
              "      border: none;\n",
              "      border-radius: 50%;\n",
              "      cursor: pointer;\n",
              "      display: none;\n",
              "      fill: #1967D2;\n",
              "      height: 32px;\n",
              "      padding: 0 0 0 0;\n",
              "      width: 32px;\n",
              "    }\n",
              "\n",
              "    .colab-df-convert:hover {\n",
              "      background-color: #E2EBFA;\n",
              "      box-shadow: 0px 1px 2px rgba(60, 64, 67, 0.3), 0px 1px 3px 1px rgba(60, 64, 67, 0.15);\n",
              "      fill: #174EA6;\n",
              "    }\n",
              "\n",
              "    [theme=dark] .colab-df-convert {\n",
              "      background-color: #3B4455;\n",
              "      fill: #D2E3FC;\n",
              "    }\n",
              "\n",
              "    [theme=dark] .colab-df-convert:hover {\n",
              "      background-color: #434B5C;\n",
              "      box-shadow: 0px 1px 3px 1px rgba(0, 0, 0, 0.15);\n",
              "      filter: drop-shadow(0px 1px 2px rgba(0, 0, 0, 0.3));\n",
              "      fill: #FFFFFF;\n",
              "    }\n",
              "  </style>\n",
              "\n",
              "      <script>\n",
              "        const buttonEl =\n",
              "          document.querySelector('#df-4692eb3f-1d14-4dd3-8902-9b824a5f77f4 button.colab-df-convert');\n",
              "        buttonEl.style.display =\n",
              "          google.colab.kernel.accessAllowed ? 'block' : 'none';\n",
              "\n",
              "        async function convertToInteractive(key) {\n",
              "          const element = document.querySelector('#df-4692eb3f-1d14-4dd3-8902-9b824a5f77f4');\n",
              "          const dataTable =\n",
              "            await google.colab.kernel.invokeFunction('convertToInteractive',\n",
              "                                                     [key], {});\n",
              "          if (!dataTable) return;\n",
              "\n",
              "          const docLinkHtml = 'Like what you see? Visit the ' +\n",
              "            '<a target=\"_blank\" href=https://colab.research.google.com/notebooks/data_table.ipynb>data table notebook</a>'\n",
              "            + ' to learn more about interactive tables.';\n",
              "          element.innerHTML = '';\n",
              "          dataTable['output_type'] = 'display_data';\n",
              "          await google.colab.output.renderOutput(dataTable, element);\n",
              "          const docLink = document.createElement('div');\n",
              "          docLink.innerHTML = docLinkHtml;\n",
              "          element.appendChild(docLink);\n",
              "        }\n",
              "      </script>\n",
              "    </div>\n",
              "  </div>\n",
              "  "
            ]
          },
          "metadata": {},
          "execution_count": 4
        }
      ]
    },
    {
      "cell_type": "code",
      "source": [
        "# dataset head\n",
        "Dataset.tail(10)"
      ],
      "metadata": {
        "colab": {
          "base_uri": "https://localhost:8080/",
          "height": 427
        },
        "id": "pIoLxH5DPHpc",
        "outputId": "c146cf8c-95d4-4d50-b62b-ec85d7cca46b"
      },
      "execution_count": 5,
      "outputs": [
        {
          "output_type": "execute_result",
          "data": {
            "text/plain": [
              "        id  age  education sex is_smoking  cigsPerDay  BPMeds  \\\n",
              "3380  3380   56        1.0   F        YES        20.0     0.0   \n",
              "3381  3381   63        1.0   F         NO         0.0     0.0   \n",
              "3382  3382   43        4.0   M         NO         0.0     0.0   \n",
              "3383  3383   57        3.0   F         NO         0.0     0.0   \n",
              "3384  3384   61        1.0   F         NO         0.0     0.0   \n",
              "3385  3385   60        1.0   F         NO         0.0     0.0   \n",
              "3386  3386   46        1.0   F         NO         0.0     0.0   \n",
              "3387  3387   44        3.0   M        YES         3.0     0.0   \n",
              "3388  3388   60        1.0   M         NO         0.0     NaN   \n",
              "3389  3389   54        3.0   F         NO         0.0     0.0   \n",
              "\n",
              "      prevalentStroke  prevalentHyp  diabetes  totChol  sysBP  diaBP    BMI  \\\n",
              "3380                0             0         0    240.0  125.0   79.0  27.38   \n",
              "3381                0             0         0    205.0  138.0   71.0  33.11   \n",
              "3382                0             1         0    260.0  129.0   90.0  25.29   \n",
              "3383                0             0         0    210.0  131.0   85.0  26.59   \n",
              "3384                0             1         0    217.0  182.0   86.0  26.98   \n",
              "3385                0             0         0    261.0  123.5   79.0  29.28   \n",
              "3386                0             0         0    199.0  102.0   56.0  21.96   \n",
              "3387                0             1         0    352.0  164.0  119.0  28.92   \n",
              "3388                0             1         0    191.0  167.0  105.0  23.01   \n",
              "3389                0             0         0    288.0  124.0   77.0  29.88   \n",
              "\n",
              "      heartRate  glucose  TenYearCHD  \n",
              "3380       80.0     82.0           0  \n",
              "3381       60.0     85.0           1  \n",
              "3382       70.0     62.0           0  \n",
              "3383       70.0     77.0           0  \n",
              "3384      105.0    113.0           0  \n",
              "3385       70.0    103.0           0  \n",
              "3386       80.0     84.0           0  \n",
              "3387       73.0     72.0           1  \n",
              "3388       80.0     85.0           0  \n",
              "3389       79.0     92.0           0  "
            ],
            "text/html": [
              "\n",
              "  <div id=\"df-3678cde9-208d-459e-8090-bb8ff1a50ad6\">\n",
              "    <div class=\"colab-df-container\">\n",
              "      <div>\n",
              "<style scoped>\n",
              "    .dataframe tbody tr th:only-of-type {\n",
              "        vertical-align: middle;\n",
              "    }\n",
              "\n",
              "    .dataframe tbody tr th {\n",
              "        vertical-align: top;\n",
              "    }\n",
              "\n",
              "    .dataframe thead th {\n",
              "        text-align: right;\n",
              "    }\n",
              "</style>\n",
              "<table border=\"1\" class=\"dataframe\">\n",
              "  <thead>\n",
              "    <tr style=\"text-align: right;\">\n",
              "      <th></th>\n",
              "      <th>id</th>\n",
              "      <th>age</th>\n",
              "      <th>education</th>\n",
              "      <th>sex</th>\n",
              "      <th>is_smoking</th>\n",
              "      <th>cigsPerDay</th>\n",
              "      <th>BPMeds</th>\n",
              "      <th>prevalentStroke</th>\n",
              "      <th>prevalentHyp</th>\n",
              "      <th>diabetes</th>\n",
              "      <th>totChol</th>\n",
              "      <th>sysBP</th>\n",
              "      <th>diaBP</th>\n",
              "      <th>BMI</th>\n",
              "      <th>heartRate</th>\n",
              "      <th>glucose</th>\n",
              "      <th>TenYearCHD</th>\n",
              "    </tr>\n",
              "  </thead>\n",
              "  <tbody>\n",
              "    <tr>\n",
              "      <th>3380</th>\n",
              "      <td>3380</td>\n",
              "      <td>56</td>\n",
              "      <td>1.0</td>\n",
              "      <td>F</td>\n",
              "      <td>YES</td>\n",
              "      <td>20.0</td>\n",
              "      <td>0.0</td>\n",
              "      <td>0</td>\n",
              "      <td>0</td>\n",
              "      <td>0</td>\n",
              "      <td>240.0</td>\n",
              "      <td>125.0</td>\n",
              "      <td>79.0</td>\n",
              "      <td>27.38</td>\n",
              "      <td>80.0</td>\n",
              "      <td>82.0</td>\n",
              "      <td>0</td>\n",
              "    </tr>\n",
              "    <tr>\n",
              "      <th>3381</th>\n",
              "      <td>3381</td>\n",
              "      <td>63</td>\n",
              "      <td>1.0</td>\n",
              "      <td>F</td>\n",
              "      <td>NO</td>\n",
              "      <td>0.0</td>\n",
              "      <td>0.0</td>\n",
              "      <td>0</td>\n",
              "      <td>0</td>\n",
              "      <td>0</td>\n",
              "      <td>205.0</td>\n",
              "      <td>138.0</td>\n",
              "      <td>71.0</td>\n",
              "      <td>33.11</td>\n",
              "      <td>60.0</td>\n",
              "      <td>85.0</td>\n",
              "      <td>1</td>\n",
              "    </tr>\n",
              "    <tr>\n",
              "      <th>3382</th>\n",
              "      <td>3382</td>\n",
              "      <td>43</td>\n",
              "      <td>4.0</td>\n",
              "      <td>M</td>\n",
              "      <td>NO</td>\n",
              "      <td>0.0</td>\n",
              "      <td>0.0</td>\n",
              "      <td>0</td>\n",
              "      <td>1</td>\n",
              "      <td>0</td>\n",
              "      <td>260.0</td>\n",
              "      <td>129.0</td>\n",
              "      <td>90.0</td>\n",
              "      <td>25.29</td>\n",
              "      <td>70.0</td>\n",
              "      <td>62.0</td>\n",
              "      <td>0</td>\n",
              "    </tr>\n",
              "    <tr>\n",
              "      <th>3383</th>\n",
              "      <td>3383</td>\n",
              "      <td>57</td>\n",
              "      <td>3.0</td>\n",
              "      <td>F</td>\n",
              "      <td>NO</td>\n",
              "      <td>0.0</td>\n",
              "      <td>0.0</td>\n",
              "      <td>0</td>\n",
              "      <td>0</td>\n",
              "      <td>0</td>\n",
              "      <td>210.0</td>\n",
              "      <td>131.0</td>\n",
              "      <td>85.0</td>\n",
              "      <td>26.59</td>\n",
              "      <td>70.0</td>\n",
              "      <td>77.0</td>\n",
              "      <td>0</td>\n",
              "    </tr>\n",
              "    <tr>\n",
              "      <th>3384</th>\n",
              "      <td>3384</td>\n",
              "      <td>61</td>\n",
              "      <td>1.0</td>\n",
              "      <td>F</td>\n",
              "      <td>NO</td>\n",
              "      <td>0.0</td>\n",
              "      <td>0.0</td>\n",
              "      <td>0</td>\n",
              "      <td>1</td>\n",
              "      <td>0</td>\n",
              "      <td>217.0</td>\n",
              "      <td>182.0</td>\n",
              "      <td>86.0</td>\n",
              "      <td>26.98</td>\n",
              "      <td>105.0</td>\n",
              "      <td>113.0</td>\n",
              "      <td>0</td>\n",
              "    </tr>\n",
              "    <tr>\n",
              "      <th>3385</th>\n",
              "      <td>3385</td>\n",
              "      <td>60</td>\n",
              "      <td>1.0</td>\n",
              "      <td>F</td>\n",
              "      <td>NO</td>\n",
              "      <td>0.0</td>\n",
              "      <td>0.0</td>\n",
              "      <td>0</td>\n",
              "      <td>0</td>\n",
              "      <td>0</td>\n",
              "      <td>261.0</td>\n",
              "      <td>123.5</td>\n",
              "      <td>79.0</td>\n",
              "      <td>29.28</td>\n",
              "      <td>70.0</td>\n",
              "      <td>103.0</td>\n",
              "      <td>0</td>\n",
              "    </tr>\n",
              "    <tr>\n",
              "      <th>3386</th>\n",
              "      <td>3386</td>\n",
              "      <td>46</td>\n",
              "      <td>1.0</td>\n",
              "      <td>F</td>\n",
              "      <td>NO</td>\n",
              "      <td>0.0</td>\n",
              "      <td>0.0</td>\n",
              "      <td>0</td>\n",
              "      <td>0</td>\n",
              "      <td>0</td>\n",
              "      <td>199.0</td>\n",
              "      <td>102.0</td>\n",
              "      <td>56.0</td>\n",
              "      <td>21.96</td>\n",
              "      <td>80.0</td>\n",
              "      <td>84.0</td>\n",
              "      <td>0</td>\n",
              "    </tr>\n",
              "    <tr>\n",
              "      <th>3387</th>\n",
              "      <td>3387</td>\n",
              "      <td>44</td>\n",
              "      <td>3.0</td>\n",
              "      <td>M</td>\n",
              "      <td>YES</td>\n",
              "      <td>3.0</td>\n",
              "      <td>0.0</td>\n",
              "      <td>0</td>\n",
              "      <td>1</td>\n",
              "      <td>0</td>\n",
              "      <td>352.0</td>\n",
              "      <td>164.0</td>\n",
              "      <td>119.0</td>\n",
              "      <td>28.92</td>\n",
              "      <td>73.0</td>\n",
              "      <td>72.0</td>\n",
              "      <td>1</td>\n",
              "    </tr>\n",
              "    <tr>\n",
              "      <th>3388</th>\n",
              "      <td>3388</td>\n",
              "      <td>60</td>\n",
              "      <td>1.0</td>\n",
              "      <td>M</td>\n",
              "      <td>NO</td>\n",
              "      <td>0.0</td>\n",
              "      <td>NaN</td>\n",
              "      <td>0</td>\n",
              "      <td>1</td>\n",
              "      <td>0</td>\n",
              "      <td>191.0</td>\n",
              "      <td>167.0</td>\n",
              "      <td>105.0</td>\n",
              "      <td>23.01</td>\n",
              "      <td>80.0</td>\n",
              "      <td>85.0</td>\n",
              "      <td>0</td>\n",
              "    </tr>\n",
              "    <tr>\n",
              "      <th>3389</th>\n",
              "      <td>3389</td>\n",
              "      <td>54</td>\n",
              "      <td>3.0</td>\n",
              "      <td>F</td>\n",
              "      <td>NO</td>\n",
              "      <td>0.0</td>\n",
              "      <td>0.0</td>\n",
              "      <td>0</td>\n",
              "      <td>0</td>\n",
              "      <td>0</td>\n",
              "      <td>288.0</td>\n",
              "      <td>124.0</td>\n",
              "      <td>77.0</td>\n",
              "      <td>29.88</td>\n",
              "      <td>79.0</td>\n",
              "      <td>92.0</td>\n",
              "      <td>0</td>\n",
              "    </tr>\n",
              "  </tbody>\n",
              "</table>\n",
              "</div>\n",
              "      <button class=\"colab-df-convert\" onclick=\"convertToInteractive('df-3678cde9-208d-459e-8090-bb8ff1a50ad6')\"\n",
              "              title=\"Convert this dataframe to an interactive table.\"\n",
              "              style=\"display:none;\">\n",
              "        \n",
              "  <svg xmlns=\"http://www.w3.org/2000/svg\" height=\"24px\"viewBox=\"0 0 24 24\"\n",
              "       width=\"24px\">\n",
              "    <path d=\"M0 0h24v24H0V0z\" fill=\"none\"/>\n",
              "    <path d=\"M18.56 5.44l.94 2.06.94-2.06 2.06-.94-2.06-.94-.94-2.06-.94 2.06-2.06.94zm-11 1L8.5 8.5l.94-2.06 2.06-.94-2.06-.94L8.5 2.5l-.94 2.06-2.06.94zm10 10l.94 2.06.94-2.06 2.06-.94-2.06-.94-.94-2.06-.94 2.06-2.06.94z\"/><path d=\"M17.41 7.96l-1.37-1.37c-.4-.4-.92-.59-1.43-.59-.52 0-1.04.2-1.43.59L10.3 9.45l-7.72 7.72c-.78.78-.78 2.05 0 2.83L4 21.41c.39.39.9.59 1.41.59.51 0 1.02-.2 1.41-.59l7.78-7.78 2.81-2.81c.8-.78.8-2.07 0-2.86zM5.41 20L4 18.59l7.72-7.72 1.47 1.35L5.41 20z\"/>\n",
              "  </svg>\n",
              "      </button>\n",
              "      \n",
              "  <style>\n",
              "    .colab-df-container {\n",
              "      display:flex;\n",
              "      flex-wrap:wrap;\n",
              "      gap: 12px;\n",
              "    }\n",
              "\n",
              "    .colab-df-convert {\n",
              "      background-color: #E8F0FE;\n",
              "      border: none;\n",
              "      border-radius: 50%;\n",
              "      cursor: pointer;\n",
              "      display: none;\n",
              "      fill: #1967D2;\n",
              "      height: 32px;\n",
              "      padding: 0 0 0 0;\n",
              "      width: 32px;\n",
              "    }\n",
              "\n",
              "    .colab-df-convert:hover {\n",
              "      background-color: #E2EBFA;\n",
              "      box-shadow: 0px 1px 2px rgba(60, 64, 67, 0.3), 0px 1px 3px 1px rgba(60, 64, 67, 0.15);\n",
              "      fill: #174EA6;\n",
              "    }\n",
              "\n",
              "    [theme=dark] .colab-df-convert {\n",
              "      background-color: #3B4455;\n",
              "      fill: #D2E3FC;\n",
              "    }\n",
              "\n",
              "    [theme=dark] .colab-df-convert:hover {\n",
              "      background-color: #434B5C;\n",
              "      box-shadow: 0px 1px 3px 1px rgba(0, 0, 0, 0.15);\n",
              "      filter: drop-shadow(0px 1px 2px rgba(0, 0, 0, 0.3));\n",
              "      fill: #FFFFFF;\n",
              "    }\n",
              "  </style>\n",
              "\n",
              "      <script>\n",
              "        const buttonEl =\n",
              "          document.querySelector('#df-3678cde9-208d-459e-8090-bb8ff1a50ad6 button.colab-df-convert');\n",
              "        buttonEl.style.display =\n",
              "          google.colab.kernel.accessAllowed ? 'block' : 'none';\n",
              "\n",
              "        async function convertToInteractive(key) {\n",
              "          const element = document.querySelector('#df-3678cde9-208d-459e-8090-bb8ff1a50ad6');\n",
              "          const dataTable =\n",
              "            await google.colab.kernel.invokeFunction('convertToInteractive',\n",
              "                                                     [key], {});\n",
              "          if (!dataTable) return;\n",
              "\n",
              "          const docLinkHtml = 'Like what you see? Visit the ' +\n",
              "            '<a target=\"_blank\" href=https://colab.research.google.com/notebooks/data_table.ipynb>data table notebook</a>'\n",
              "            + ' to learn more about interactive tables.';\n",
              "          element.innerHTML = '';\n",
              "          dataTable['output_type'] = 'display_data';\n",
              "          await google.colab.output.renderOutput(dataTable, element);\n",
              "          const docLink = document.createElement('div');\n",
              "          docLink.innerHTML = docLinkHtml;\n",
              "          element.appendChild(docLink);\n",
              "        }\n",
              "      </script>\n",
              "    </div>\n",
              "  </div>\n",
              "  "
            ]
          },
          "metadata": {},
          "execution_count": 5
        }
      ]
    },
    {
      "cell_type": "markdown",
      "source": [
        "## Data Description\n",
        "### **Variables :**\n",
        "\n",
        "Each attribute is a potential risk factor. There are both demographic, behavioral, and medical risk\n",
        "factors.\n",
        "### **Demographic**:\n",
        "\n",
        "• **Sex**: male or female(\"M\" or \"F\")\n",
        "\n",
        "• **Age**: Age of the patient;(Continuous - Although the recorded ages have been truncated to\n",
        "whole numbers, the concept of age is continuous)\n",
        "\n",
        "### **Behavioral**\n",
        "\n",
        "• **is_smoking**: whether or not the patient is a current smoker (\"YES\" or \"NO\")\n",
        "\n",
        "• **Cigs Per Day**: the number of cigarettes that the person smoked on average in one day.(can be\n",
        "considered continuous as one can have any number of cigarettes, even half a cigarette.)\n",
        "### **Medical( history)**\n",
        "\n",
        "• **BP Meds**: whether or not the patient was on blood pressure medication (Nominal)\n",
        "\n",
        "• **Prevalent Stroke**: whether or not the patient had previously had a stroke (Nominal)\n",
        "\n",
        "• **Prevalent Hyp**: whether or not the patient was hypertensive (Nominal)\n",
        "\n",
        "• **Diabetes**: whether or not the patient had diabetes (Nominal)\n",
        "\n",
        "### **Medical(current)**\n",
        "\n",
        "• **Tot Chol**: total cholesterol level (Continuous)\n",
        "\n",
        "• **Sys BP**: systolic blood pressure (Continuous)\n",
        "\n",
        "• **Dia BP**: diastolic blood pressure (Continuous)\n",
        "\n",
        "• **BMI**: Body Mass Index (Continuous)\n",
        "\n",
        "• **Heart Rate**: heart rate (Continuous - In medical research, variables such as heart rate though in\n",
        "fact discrete, yet are considered continuous because of large number of possible values.)\n",
        "\n",
        "• **Glucose**: glucose level (Continuous)\n",
        "Predict variable (desired target)\n",
        "\n",
        "• **10-year risk of coronary heart disease CHD** (binary: “1”, means “Yes”, “0” means “No”) "
      ],
      "metadata": {
        "id": "BVsnxd9ePVtt"
      }
    },
    {
      "cell_type": "code",
      "source": [
        "# dataset variables information\n",
        "Dataset.info()"
      ],
      "metadata": {
        "colab": {
          "base_uri": "https://localhost:8080/"
        },
        "id": "bqNe8sr3fcIP",
        "outputId": "95449d27-4fe3-4c54-a5dd-14b139e90fe7"
      },
      "execution_count": 6,
      "outputs": [
        {
          "output_type": "stream",
          "name": "stdout",
          "text": [
            "<class 'pandas.core.frame.DataFrame'>\n",
            "RangeIndex: 3390 entries, 0 to 3389\n",
            "Data columns (total 17 columns):\n",
            " #   Column           Non-Null Count  Dtype  \n",
            "---  ------           --------------  -----  \n",
            " 0   id               3390 non-null   int64  \n",
            " 1   age              3390 non-null   int64  \n",
            " 2   education        3303 non-null   float64\n",
            " 3   sex              3390 non-null   object \n",
            " 4   is_smoking       3390 non-null   object \n",
            " 5   cigsPerDay       3368 non-null   float64\n",
            " 6   BPMeds           3346 non-null   float64\n",
            " 7   prevalentStroke  3390 non-null   int64  \n",
            " 8   prevalentHyp     3390 non-null   int64  \n",
            " 9   diabetes         3390 non-null   int64  \n",
            " 10  totChol          3352 non-null   float64\n",
            " 11  sysBP            3390 non-null   float64\n",
            " 12  diaBP            3390 non-null   float64\n",
            " 13  BMI              3376 non-null   float64\n",
            " 14  heartRate        3389 non-null   float64\n",
            " 15  glucose          3086 non-null   float64\n",
            " 16  TenYearCHD       3390 non-null   int64  \n",
            "dtypes: float64(9), int64(6), object(2)\n",
            "memory usage: 450.4+ KB\n"
          ]
        }
      ]
    },
    {
      "cell_type": "markdown",
      "source": [
        "The Dataset has 3390 rows of entries and 14 features (variables) for each row entries of id and the target variable TenYearCHD. Out of 14 variables, education cigsPerDay, BPmeds, totChol,BMI, heartrate, gluscose columns have some Null values. Since the dataset size is not huge, the null value treatment is very important. "
      ],
      "metadata": {
        "id": "eONn4yC1QPmf"
      }
    },
    {
      "cell_type": "code",
      "source": [
        "#missing no plot\n",
        "msno.matrix(Dataset)"
      ],
      "metadata": {
        "colab": {
          "base_uri": "https://localhost:8080/",
          "height": 322
        },
        "id": "rhJP00WWFkrh",
        "outputId": "06c72758-24b0-49e4-b90e-5850e5e7116f"
      },
      "execution_count": 7,
      "outputs": [
        {
          "output_type": "execute_result",
          "data": {
            "text/plain": [
              "<matplotlib.axes._subplots.AxesSubplot at 0x7fc1a1b53050>"
            ]
          },
          "metadata": {},
          "execution_count": 7
        },
        {
          "output_type": "display_data",
          "data": {
            "text/plain": [
              "<Figure size 1800x720 with 2 Axes>"
            ],
            "image/png": "[encoded data removed]"
          },
          "metadata": {
            "needs_background": "light"
          }
        }
      ]
    },
    {
      "cell_type": "code",
      "source": [
        "# Target Variable\n",
        "Dataset.TenYearCHD.value_counts()"
      ],
      "metadata": {
        "colab": {
          "base_uri": "https://localhost:8080/"
        },
        "id": "3omAGkDFJQ5D",
        "outputId": "0cde264e-de16-45ad-bda3-d8533a2a7990"
      },
      "execution_count": 8,
      "outputs": [
        {
          "output_type": "execute_result",
          "data": {
            "text/plain": [
              "0    2879\n",
              "1     511\n",
              "Name: TenYearCHD, dtype: int64"
            ]
          },
          "metadata": {},
          "execution_count": 8
        }
      ]
    },
    {
      "cell_type": "markdown",
      "source": [
        "As there is imbalance in traget variable, resampling must be done on train dataset (SMOTE) to ensure the model outcome is not misleading. Here the target variable 1 means, TenYearCHD values is YES, i.e. CHD will occur. So it is very important to predict the value 1 most accurately as well as predict false negative (predict 0 for actual 1) as less as possible.\n",
        "\n",
        "So The metric recall or f1 score for value '1' is the important metric, and will be chosen as the metric for the study."
      ],
      "metadata": {
        "id": "ftPMmHYOJauu"
      }
    },
    {
      "cell_type": "code",
      "source": [
        "#Dataset summary \n",
        "Dataset.describe(include='all')"
      ],
      "metadata": {
        "colab": {
          "base_uri": "https://localhost:8080/",
          "height": 458
        },
        "id": "mWEZgBpwfwEF",
        "outputId": "ada9c11e-59d6-4f66-dc6b-609ad6073eae"
      },
      "execution_count": 9,
      "outputs": [
        {
          "output_type": "execute_result",
          "data": {
            "text/plain": [
              "                 id          age    education   sex is_smoking   cigsPerDay  \\\n",
              "count   3390.000000  3390.000000  3303.000000  3390       3390  3368.000000   \n",
              "unique          NaN          NaN          NaN     2          2          NaN   \n",
              "top             NaN          NaN          NaN     F         NO          NaN   \n",
              "freq            NaN          NaN          NaN  1923       1703          NaN   \n",
              "mean    1694.500000    49.542183     1.970936   NaN        NaN     9.069477   \n",
              "std      978.753033     8.592878     1.019081   NaN        NaN    11.879078   \n",
              "min        0.000000    32.000000     1.000000   NaN        NaN     0.000000   \n",
              "25%      847.250000    42.000000     1.000000   NaN        NaN     0.000000   \n",
              "50%     1694.500000    49.000000     2.000000   NaN        NaN     0.000000   \n",
              "75%     2541.750000    56.000000     3.000000   NaN        NaN    20.000000   \n",
              "max     3389.000000    70.000000     4.000000   NaN        NaN    70.000000   \n",
              "\n",
              "             BPMeds  prevalentStroke  prevalentHyp     diabetes      totChol  \\\n",
              "count   3346.000000      3390.000000   3390.000000  3390.000000  3352.000000   \n",
              "unique          NaN              NaN           NaN          NaN          NaN   \n",
              "top             NaN              NaN           NaN          NaN          NaN   \n",
              "freq            NaN              NaN           NaN          NaN          NaN   \n",
              "mean       0.029886         0.006490      0.315339     0.025664   237.074284   \n",
              "std        0.170299         0.080309      0.464719     0.158153    45.247430   \n",
              "min        0.000000         0.000000      0.000000     0.000000   107.000000   \n",
              "25%        0.000000         0.000000      0.000000     0.000000   206.000000   \n",
              "50%        0.000000         0.000000      0.000000     0.000000   234.000000   \n",
              "75%        0.000000         0.000000      1.000000     0.000000   264.000000   \n",
              "max        1.000000         1.000000      1.000000     1.000000   696.000000   \n",
              "\n",
              "             sysBP        diaBP          BMI    heartRate      glucose  \\\n",
              "count   3390.00000  3390.000000  3376.000000  3389.000000  3086.000000   \n",
              "unique         NaN          NaN          NaN          NaN          NaN   \n",
              "top            NaN          NaN          NaN          NaN          NaN   \n",
              "freq           NaN          NaN          NaN          NaN          NaN   \n",
              "mean     132.60118    82.883038    25.794964    75.977279    82.086520   \n",
              "std       22.29203    12.023581     4.115449    11.971868    24.244753   \n",
              "min       83.50000    48.000000    15.960000    45.000000    40.000000   \n",
              "25%      117.00000    74.500000    23.020000    68.000000    71.000000   \n",
              "50%      128.50000    82.000000    25.380000    75.000000    78.000000   \n",
              "75%      144.00000    90.000000    28.040000    83.000000    87.000000   \n",
              "max      295.00000   142.500000    56.800000   143.000000   394.000000   \n",
              "\n",
              "         TenYearCHD  \n",
              "count   3390.000000  \n",
              "unique          NaN  \n",
              "top             NaN  \n",
              "freq            NaN  \n",
              "mean       0.150737  \n",
              "std        0.357846  \n",
              "min        0.000000  \n",
              "25%        0.000000  \n",
              "50%        0.000000  \n",
              "75%        0.000000  \n",
              "max        1.000000  "
            ],
            "text/html": [
              "\n",
              "  <div id=\"df-19ea5dfb-afe8-4ba6-864b-f8d653dd9a7c\">\n",
              "    <div class=\"colab-df-container\">\n",
              "      <div>\n",
              "<style scoped>\n",
              "    .dataframe tbody tr th:only-of-type {\n",
              "        vertical-align: middle;\n",
              "    }\n",
              "\n",
              "    .dataframe tbody tr th {\n",
              "        vertical-align: top;\n",
              "    }\n",
              "\n",
              "    .dataframe thead th {\n",
              "        text-align: right;\n",
              "    }\n",
              "</style>\n",
              "<table border=\"1\" class=\"dataframe\">\n",
              "  <thead>\n",
              "    <tr style=\"text-align: right;\">\n",
              "      <th></th>\n",
              "      <th>id</th>\n",
              "      <th>age</th>\n",
              "      <th>education</th>\n",
              "      <th>sex</th>\n",
              "      <th>is_smoking</th>\n",
              "      <th>cigsPerDay</th>\n",
              "      <th>BPMeds</th>\n",
              "      <th>prevalentStroke</th>\n",
              "      <th>prevalentHyp</th>\n",
              "      <th>diabetes</th>\n",
              "      <th>totChol</th>\n",
              "      <th>sysBP</th>\n",
              "      <th>diaBP</th>\n",
              "      <th>BMI</th>\n",
              "      <th>heartRate</th>\n",
              "      <th>glucose</th>\n",
              "      <th>TenYearCHD</th>\n",
              "    </tr>\n",
              "  </thead>\n",
              "  <tbody>\n",
              "    <tr>\n",
              "      <th>count</th>\n",
              "      <td>3390.000000</td>\n",
              "      <td>3390.000000</td>\n",
              "      <td>3303.000000</td>\n",
              "      <td>3390</td>\n",
              "      <td>3390</td>\n",
              "      <td>3368.000000</td>\n",
              "      <td>3346.000000</td>\n",
              "      <td>3390.000000</td>\n",
              "      <td>3390.000000</td>\n",
              "      <td>3390.000000</td>\n",
              "      <td>3352.000000</td>\n",
              "      <td>3390.00000</td>\n",
              "      <td>3390.000000</td>\n",
              "      <td>3376.000000</td>\n",
              "      <td>3389.000000</td>\n",
              "      <td>3086.000000</td>\n",
              "      <td>3390.000000</td>\n",
              "    </tr>\n",
              "    <tr>\n",
              "      <th>unique</th>\n",
              "      <td>NaN</td>\n",
              "      <td>NaN</td>\n",
              "      <td>NaN</td>\n",
              "      <td>2</td>\n",
              "      <td>2</td>\n",
              "      <td>NaN</td>\n",
              "      <td>NaN</td>\n",
              "      <td>NaN</td>\n",
              "      <td>NaN</td>\n",
              "      <td>NaN</td>\n",
              "      <td>NaN</td>\n",
              "      <td>NaN</td>\n",
              "      <td>NaN</td>\n",
              "      <td>NaN</td>\n",
              "      <td>NaN</td>\n",
              "      <td>NaN</td>\n",
              "      <td>NaN</td>\n",
              "    </tr>\n",
              "    <tr>\n",
              "      <th>top</th>\n",
              "      <td>NaN</td>\n",
              "      <td>NaN</td>\n",
              "      <td>NaN</td>\n",
              "      <td>F</td>\n",
              "      <td>NO</td>\n",
              "      <td>NaN</td>\n",
              "      <td>NaN</td>\n",
              "      <td>NaN</td>\n",
              "      <td>NaN</td>\n",
              "      <td>NaN</td>\n",
              "      <td>NaN</td>\n",
              "      <td>NaN</td>\n",
              "      <td>NaN</td>\n",
              "      <td>NaN</td>\n",
              "      <td>NaN</td>\n",
              "      <td>NaN</td>\n",
              "      <td>NaN</td>\n",
              "    </tr>\n",
              "    <tr>\n",
              "      <th>freq</th>\n",
              "      <td>NaN</td>\n",
              "      <td>NaN</td>\n",
              "      <td>NaN</td>\n",
              "      <td>1923</td>\n",
              "      <td>1703</td>\n",
              "      <td>NaN</td>\n",
              "      <td>NaN</td>\n",
              "      <td>NaN</td>\n",
              "      <td>NaN</td>\n",
              "      <td>NaN</td>\n",
              "      <td>NaN</td>\n",
              "      <td>NaN</td>\n",
              "      <td>NaN</td>\n",
              "      <td>NaN</td>\n",
              "      <td>NaN</td>\n",
              "      <td>NaN</td>\n",
              "      <td>NaN</td>\n",
              "    </tr>\n",
              "    <tr>\n",
              "      <th>mean</th>\n",
              "      <td>1694.500000</td>\n",
              "      <td>49.542183</td>\n",
              "      <td>1.970936</td>\n",
              "      <td>NaN</td>\n",
              "      <td>NaN</td>\n",
              "      <td>9.069477</td>\n",
              "      <td>0.029886</td>\n",
              "      <td>0.006490</td>\n",
              "      <td>0.315339</td>\n",
              "      <td>0.025664</td>\n",
              "      <td>237.074284</td>\n",
              "      <td>132.60118</td>\n",
              "      <td>82.883038</td>\n",
              "      <td>25.794964</td>\n",
              "      <td>75.977279</td>\n",
              "      <td>82.086520</td>\n",
              "      <td>0.150737</td>\n",
              "    </tr>\n",
              "    <tr>\n",
              "      <th>std</th>\n",
              "      <td>978.753033</td>\n",
              "      <td>8.592878</td>\n",
              "      <td>1.019081</td>\n",
              "      <td>NaN</td>\n",
              "      <td>NaN</td>\n",
              "      <td>11.879078</td>\n",
              "      <td>0.170299</td>\n",
              "      <td>0.080309</td>\n",
              "      <td>0.464719</td>\n",
              "      <td>0.158153</td>\n",
              "      <td>45.247430</td>\n",
              "      <td>22.29203</td>\n",
              "      <td>12.023581</td>\n",
              "      <td>4.115449</td>\n",
              "      <td>11.971868</td>\n",
              "      <td>24.244753</td>\n",
              "      <td>0.357846</td>\n",
              "    </tr>\n",
              "    <tr>\n",
              "      <th>min</th>\n",
              "      <td>0.000000</td>\n",
              "      <td>32.000000</td>\n",
              "      <td>1.000000</td>\n",
              "      <td>NaN</td>\n",
              "      <td>NaN</td>\n",
              "      <td>0.000000</td>\n",
              "      <td>0.000000</td>\n",
              "      <td>0.000000</td>\n",
              "      <td>0.000000</td>\n",
              "      <td>0.000000</td>\n",
              "      <td>107.000000</td>\n",
              "      <td>83.50000</td>\n",
              "      <td>48.000000</td>\n",
              "      <td>15.960000</td>\n",
              "      <td>45.000000</td>\n",
              "      <td>40.000000</td>\n",
              "      <td>0.000000</td>\n",
              "    </tr>\n",
              "    <tr>\n",
              "      <th>25%</th>\n",
              "      <td>847.250000</td>\n",
              "      <td>42.000000</td>\n",
              "      <td>1.000000</td>\n",
              "      <td>NaN</td>\n",
              "      <td>NaN</td>\n",
              "      <td>0.000000</td>\n",
              "      <td>0.000000</td>\n",
              "      <td>0.000000</td>\n",
              "      <td>0.000000</td>\n",
              "      <td>0.000000</td>\n",
              "      <td>206.000000</td>\n",
              "      <td>117.00000</td>\n",
              "      <td>74.500000</td>\n",
              "      <td>23.020000</td>\n",
              "      <td>68.000000</td>\n",
              "      <td>71.000000</td>\n",
              "      <td>0.000000</td>\n",
              "    </tr>\n",
              "    <tr>\n",
              "      <th>50%</th>\n",
              "      <td>1694.500000</td>\n",
              "      <td>49.000000</td>\n",
              "      <td>2.000000</td>\n",
              "      <td>NaN</td>\n",
              "      <td>NaN</td>\n",
              "      <td>0.000000</td>\n",
              "      <td>0.000000</td>\n",
              "      <td>0.000000</td>\n",
              "      <td>0.000000</td>\n",
              "      <td>0.000000</td>\n",
              "      <td>234.000000</td>\n",
              "      <td>128.50000</td>\n",
              "      <td>82.000000</td>\n",
              "      <td>25.380000</td>\n",
              "      <td>75.000000</td>\n",
              "      <td>78.000000</td>\n",
              "      <td>0.000000</td>\n",
              "    </tr>\n",
              "    <tr>\n",
              "      <th>75%</th>\n",
              "      <td>2541.750000</td>\n",
              "      <td>56.000000</td>\n",
              "      <td>3.000000</td>\n",
              "      <td>NaN</td>\n",
              "      <td>NaN</td>\n",
              "      <td>20.000000</td>\n",
              "      <td>0.000000</td>\n",
              "      <td>0.000000</td>\n",
              "      <td>1.000000</td>\n",
              "      <td>0.000000</td>\n",
              "      <td>264.000000</td>\n",
              "      <td>144.00000</td>\n",
              "      <td>90.000000</td>\n",
              "      <td>28.040000</td>\n",
              "      <td>83.000000</td>\n",
              "      <td>87.000000</td>\n",
              "      <td>0.000000</td>\n",
              "    </tr>\n",
              "    <tr>\n",
              "      <th>max</th>\n",
              "      <td>3389.000000</td>\n",
              "      <td>70.000000</td>\n",
              "      <td>4.000000</td>\n",
              "      <td>NaN</td>\n",
              "      <td>NaN</td>\n",
              "      <td>70.000000</td>\n",
              "      <td>1.000000</td>\n",
              "      <td>1.000000</td>\n",
              "      <td>1.000000</td>\n",
              "      <td>1.000000</td>\n",
              "      <td>696.000000</td>\n",
              "      <td>295.00000</td>\n",
              "      <td>142.500000</td>\n",
              "      <td>56.800000</td>\n",
              "      <td>143.000000</td>\n",
              "      <td>394.000000</td>\n",
              "      <td>1.000000</td>\n",
              "    </tr>\n",
              "  </tbody>\n",
              "</table>\n",
              "</div>\n",
              "      <button class=\"colab-df-convert\" onclick=\"convertToInteractive('df-19ea5dfb-afe8-4ba6-864b-f8d653dd9a7c')\"\n",
              "              title=\"Convert this dataframe to an interactive table.\"\n",
              "              style=\"display:none;\">\n",
              "        \n",
              "  <svg xmlns=\"http://www.w3.org/2000/svg\" height=\"24px\"viewBox=\"0 0 24 24\"\n",
              "       width=\"24px\">\n",
              "    <path d=\"M0 0h24v24H0V0z\" fill=\"none\"/>\n",
              "    <path d=\"M18.56 5.44l.94 2.06.94-2.06 2.06-.94-2.06-.94-.94-2.06-.94 2.06-2.06.94zm-11 1L8.5 8.5l.94-2.06 2.06-.94-2.06-.94L8.5 2.5l-.94 2.06-2.06.94zm10 10l.94 2.06.94-2.06 2.06-.94-2.06-.94-.94-2.06-.94 2.06-2.06.94z\"/><path d=\"M17.41 7.96l-1.37-1.37c-.4-.4-.92-.59-1.43-.59-.52 0-1.04.2-1.43.59L10.3 9.45l-7.72 7.72c-.78.78-.78 2.05 0 2.83L4 21.41c.39.39.9.59 1.41.59.51 0 1.02-.2 1.41-.59l7.78-7.78 2.81-2.81c.8-.78.8-2.07 0-2.86zM5.41 20L4 18.59l7.72-7.72 1.47 1.35L5.41 20z\"/>\n",
              "  </svg>\n",
              "      </button>\n",
              "      \n",
              "  <style>\n",
              "    .colab-df-container {\n",
              "      display:flex;\n",
              "      flex-wrap:wrap;\n",
              "      gap: 12px;\n",
              "    }\n",
              "\n",
              "    .colab-df-convert {\n",
              "      background-color: #E8F0FE;\n",
              "      border: none;\n",
              "      border-radius: 50%;\n",
              "      cursor: pointer;\n",
              "      display: none;\n",
              "      fill: #1967D2;\n",
              "      height: 32px;\n",
              "      padding: 0 0 0 0;\n",
              "      width: 32px;\n",
              "    }\n",
              "\n",
              "    .colab-df-convert:hover {\n",
              "      background-color: #E2EBFA;\n",
              "      box-shadow: 0px 1px 2px rgba(60, 64, 67, 0.3), 0px 1px 3px 1px rgba(60, 64, 67, 0.15);\n",
              "      fill: #174EA6;\n",
              "    }\n",
              "\n",
              "    [theme=dark] .colab-df-convert {\n",
              "      background-color: #3B4455;\n",
              "      fill: #D2E3FC;\n",
              "    }\n",
              "\n",
              "    [theme=dark] .colab-df-convert:hover {\n",
              "      background-color: #434B5C;\n",
              "      box-shadow: 0px 1px 3px 1px rgba(0, 0, 0, 0.15);\n",
              "      filter: drop-shadow(0px 1px 2px rgba(0, 0, 0, 0.3));\n",
              "      fill: #FFFFFF;\n",
              "    }\n",
              "  </style>\n",
              "\n",
              "      <script>\n",
              "        const buttonEl =\n",
              "          document.querySelector('#df-19ea5dfb-afe8-4ba6-864b-f8d653dd9a7c button.colab-df-convert');\n",
              "        buttonEl.style.display =\n",
              "          google.colab.kernel.accessAllowed ? 'block' : 'none';\n",
              "\n",
              "        async function convertToInteractive(key) {\n",
              "          const element = document.querySelector('#df-19ea5dfb-afe8-4ba6-864b-f8d653dd9a7c');\n",
              "          const dataTable =\n",
              "            await google.colab.kernel.invokeFunction('convertToInteractive',\n",
              "                                                     [key], {});\n",
              "          if (!dataTable) return;\n",
              "\n",
              "          const docLinkHtml = 'Like what you see? Visit the ' +\n",
              "            '<a target=\"_blank\" href=https://colab.research.google.com/notebooks/data_table.ipynb>data table notebook</a>'\n",
              "            + ' to learn more about interactive tables.';\n",
              "          element.innerHTML = '';\n",
              "          dataTable['output_type'] = 'display_data';\n",
              "          await google.colab.output.renderOutput(dataTable, element);\n",
              "          const docLink = document.createElement('div');\n",
              "          docLink.innerHTML = docLinkHtml;\n",
              "          element.appendChild(docLink);\n",
              "        }\n",
              "      </script>\n",
              "    </div>\n",
              "  </div>\n",
              "  "
            ]
          },
          "metadata": {},
          "execution_count": 9
        }
      ]
    },
    {
      "cell_type": "markdown",
      "source": [
        "It is obvious from above data summary, the BPmeds, prevalentStroke, prevalentHyp, diabetes are Binary variables, which can be considerede as a categorical variables and Sex and is_smoking are categorical variabels."
      ],
      "metadata": {
        "id": "GWNiQchclnLk"
      }
    },
    {
      "cell_type": "code",
      "source": [
        "Dataset.education.value_counts()"
      ],
      "metadata": {
        "colab": {
          "base_uri": "https://localhost:8080/"
        },
        "id": "2jkCw5kMfWK9",
        "outputId": "9f377209-7f68-4236-dbc9-9cc39c82c693"
      },
      "execution_count": 10,
      "outputs": [
        {
          "output_type": "execute_result",
          "data": {
            "text/plain": [
              "1.0    1391\n",
              "2.0     990\n",
              "3.0     549\n",
              "4.0     373\n",
              "Name: education, dtype: int64"
            ]
          },
          "metadata": {},
          "execution_count": 10
        }
      ]
    },
    {
      "cell_type": "markdown",
      "source": [
        "As we cam see, Education feature with only four unique values; So It is considered a also categorical feature."
      ],
      "metadata": {
        "id": "OSS5-cfOzHxA"
      }
    },
    {
      "cell_type": "markdown",
      "source": [
        "# EDA"
      ],
      "metadata": {
        "id": "78oQWWlvMtJr"
      }
    },
    {
      "cell_type": "code",
      "source": [
        "# categorical features names list\n",
        "Categorical_features=['sex','is_smoking','BPMeds','prevalentStroke','prevalentHyp','diabetes','education']"
      ],
      "metadata": {
        "id": "4mIU0zguuSUZ"
      },
      "execution_count": 11,
      "outputs": []
    },
    {
      "cell_type": "code",
      "source": [
        "# numerical features names list\n",
        "Numeric_Features=[x for x in Dataset.describe().columns if not x in ['id','TenYearCHD','BPMeds'\t,'prevalentStroke','prevalentHyp','diabetes','education']]"
      ],
      "metadata": {
        "id": "P04b1_3h2Lkb"
      },
      "execution_count": 12,
      "outputs": []
    },
    {
      "cell_type": "code",
      "source": [
        "Dataset[Numeric_Features].info()"
      ],
      "metadata": {
        "colab": {
          "base_uri": "https://localhost:8080/"
        },
        "id": "gatRCyLLIIK_",
        "outputId": "054fbe6a-f704-4d8c-b7ca-a4d5e1762ba8"
      },
      "execution_count": 13,
      "outputs": [
        {
          "output_type": "stream",
          "name": "stdout",
          "text": [
            "<class 'pandas.core.frame.DataFrame'>\n",
            "RangeIndex: 3390 entries, 0 to 3389\n",
            "Data columns (total 8 columns):\n",
            " #   Column      Non-Null Count  Dtype  \n",
            "---  ------      --------------  -----  \n",
            " 0   age         3390 non-null   int64  \n",
            " 1   cigsPerDay  3368 non-null   float64\n",
            " 2   totChol     3352 non-null   float64\n",
            " 3   sysBP       3390 non-null   float64\n",
            " 4   diaBP       3390 non-null   float64\n",
            " 5   BMI         3376 non-null   float64\n",
            " 6   heartRate   3389 non-null   float64\n",
            " 7   glucose     3086 non-null   float64\n",
            "dtypes: float64(7), int64(1)\n",
            "memory usage: 212.0 KB\n"
          ]
        }
      ]
    },
    {
      "cell_type": "code",
      "source": [
        "Dataset[Categorical_features].info()"
      ],
      "metadata": {
        "colab": {
          "base_uri": "https://localhost:8080/"
        },
        "id": "3nCwH6Hb-EXZ",
        "outputId": "2e4cf04e-747d-4975-cc23-2c4e178f2359"
      },
      "execution_count": 14,
      "outputs": [
        {
          "output_type": "stream",
          "name": "stdout",
          "text": [
            "<class 'pandas.core.frame.DataFrame'>\n",
            "RangeIndex: 3390 entries, 0 to 3389\n",
            "Data columns (total 7 columns):\n",
            " #   Column           Non-Null Count  Dtype  \n",
            "---  ------           --------------  -----  \n",
            " 0   sex              3390 non-null   object \n",
            " 1   is_smoking       3390 non-null   object \n",
            " 2   BPMeds           3346 non-null   float64\n",
            " 3   prevalentStroke  3390 non-null   int64  \n",
            " 4   prevalentHyp     3390 non-null   int64  \n",
            " 5   diabetes         3390 non-null   int64  \n",
            " 6   education        3303 non-null   float64\n",
            "dtypes: float64(2), int64(3), object(2)\n",
            "memory usage: 185.5+ KB\n"
          ]
        }
      ]
    },
    {
      "cell_type": "markdown",
      "source": [
        "## Univariate Analysis"
      ],
      "metadata": {
        "id": "9E7ZBdCUeipz"
      }
    },
    {
      "cell_type": "markdown",
      "source": [
        "First we will see the distribution plots of each numerical variables to check the normality of the distribution."
      ],
      "metadata": {
        "id": "3tq-85-DwQ_o"
      }
    },
    {
      "cell_type": "code",
      "source": [
        "#plotting the numerical variable distributions\n",
        "plt.figure(figsize=(25,20))\n",
        "for num,feat in enumerate(Numeric_Features):\n",
        "  plt.subplot(3,3,num+1)\n",
        "  sns.distplot(Dataset[feat])\n",
        "\n",
        "\n"
      ],
      "metadata": {
        "colab": {
          "base_uri": "https://localhost:8080/",
          "height": 504
        },
        "id": "n96oNOWC4gPr",
        "outputId": "774d4b9a-1ec1-475c-f09a-989c55e53d62"
      },
      "execution_count": 15,
      "outputs": [
        {
          "output_type": "display_data",
          "data": {
            "text/plain": [
              "<Figure size 1800x1440 with 8 Axes>"
            ],
            "image/png": "[encoded data removed]"
          },
          "metadata": {
            "needs_background": "light"
          }
        }
      ]
    },
    {
      "cell_type": "markdown",
      "source": [
        "As we can see in the above plots, most distributions are positively skewed, especially sysBP, BMI, glucose and totChol. So Some Transformation must be applied before data preparation."
      ],
      "metadata": {
        "id": "MaFFdO9x82tk"
      }
    },
    {
      "cell_type": "code",
      "source": [
        "# boxplot of numerical features\n",
        "plt.figure(figsize=(25,20))\n",
        "for num,feat in enumerate(Numeric_Features):\n",
        "  plt.subplot(3,3,num+1)\n",
        "  sns.boxplot(y=feat,data=Dataset)\n"
      ],
      "metadata": {
        "colab": {
          "base_uri": "https://localhost:8080/",
          "height": 496
        },
        "id": "NC5LT57RW4tt",
        "outputId": "5b92ff84-8e0d-46d3-9c14-8cd6cdc330a5"
      },
      "execution_count": 16,
      "outputs": [
        {
          "output_type": "display_data",
          "data": {
            "text/plain": [
              "<Figure size 1800x1440 with 8 Axes>"
            ],
            "image/png": "[encoded data removed]"
          },
          "metadata": {
            "needs_background": "light"
          }
        }
      ]
    },
    {
      "cell_type": "markdown",
      "source": [
        "There are outliers in most of the numerical features, but as the dataset small we can not afford to drop any data. Also tree based algorithms and SVM , naive-bayes are not very sensitive to the outliers, so we can use those algorithms for the models."
      ],
      "metadata": {
        "id": "jJyhVHvwZgWV"
      }
    },
    {
      "cell_type": "code",
      "source": [
        "#count plot of the categorical features for each respective categories\n",
        "plt.figure(figsize=(25,20))\n",
        "for num,feat in enumerate(Categorical_features):\n",
        "  plt.subplot(3,3,num+1)\n",
        "  sns.histplot(x=feat,data=Dataset)"
      ],
      "metadata": {
        "colab": {
          "base_uri": "https://localhost:8080/",
          "height": 506
        },
        "id": "n7P0TA2NZsqL",
        "outputId": "c30af456-6750-4b10-b0a9-a8a7f1396ea5"
      },
      "execution_count": 17,
      "outputs": [
        {
          "output_type": "display_data",
          "data": {
            "text/plain": [
              "<Figure size 1800x1440 with 7 Axes>"
            ],
            "image/png": "[encoded data removed]"
          },
          "metadata": {
            "needs_background": "light"
          }
        }
      ]
    },
    {
      "cell_type": "markdown",
      "source": [
        "BPmeds,prevalentStroke and diabetes have most imbalanced categories as we can see above."
      ],
      "metadata": {
        "id": "ZqMNLJUlrYL3"
      }
    },
    {
      "cell_type": "markdown",
      "source": [
        "## Bivariate Analysis"
      ],
      "metadata": {
        "id": "uecrKc1VWZiF"
      }
    },
    {
      "cell_type": "code",
      "source": [
        "# Violin Plots for continous variables and target variable \n",
        "plt.figure(figsize=(25,20))\n",
        "for num,feat in enumerate(Numeric_Features):\n",
        "  plt.subplot(3,3,num+1)\n",
        "  sns.violinplot(x='TenYearCHD',y=feat,data=Dataset)"
      ],
      "metadata": {
        "colab": {
          "base_uri": "https://localhost:8080/",
          "height": 507
        },
        "id": "x_iyCc8bZpeU",
        "outputId": "3a52e94a-49ee-4b25-c437-b43c6b23147c"
      },
      "execution_count": 18,
      "outputs": [
        {
          "output_type": "display_data",
          "data": {
            "text/plain": [
              "<Figure size 1800x1440 with 8 Axes>"
            ],
            "image/png": "[encoded data removed]"
          },
          "metadata": {
            "needs_background": "light"
          }
        }
      ]
    },
    {
      "cell_type": "markdown",
      "source": [
        "There is not much ambiguity for bivariate analysis for continous variables-target variables pair."
      ],
      "metadata": {
        "id": "09TH6tGPqOUs"
      }
    },
    {
      "cell_type": "markdown",
      "source": [
        "# Feature Engineering"
      ],
      "metadata": {
        "id": "r8tzTrK1rvGq"
      }
    },
    {
      "cell_type": "markdown",
      "source": [
        "## Null value Treatment"
      ],
      "metadata": {
        "id": "PWFzb5uGrxjb"
      }
    },
    {
      "cell_type": "code",
      "source": [
        "# cigsPerDay and is_smoking similarity\n",
        "Dataset[(Dataset['cigsPerDay']>0) & (Dataset['is_smoking']=='NO')]\n"
      ],
      "metadata": {
        "colab": {
          "base_uri": "https://localhost:8080/",
          "height": 114
        },
        "id": "UXJ2Aw-wtJ76",
        "outputId": "52fcd38d-c6cb-4e41-cc2c-6983bab80cc3"
      },
      "execution_count": 19,
      "outputs": [
        {
          "output_type": "execute_result",
          "data": {
            "text/plain": [
              "Empty DataFrame\n",
              "Columns: [id, age, education, sex, is_smoking, cigsPerDay, BPMeds, prevalentStroke, prevalentHyp, diabetes, totChol, sysBP, diaBP, BMI, heartRate, glucose, TenYearCHD]\n",
              "Index: []"
            ],
            "text/html": [
              "\n",
              "  <div id=\"df-456c3d61-2a43-43c1-8b25-d6e78e27a476\">\n",
              "    <div class=\"colab-df-container\">\n",
              "      <div>\n",
              "<style scoped>\n",
              "    .dataframe tbody tr th:only-of-type {\n",
              "        vertical-align: middle;\n",
              "    }\n",
              "\n",
              "    .dataframe tbody tr th {\n",
              "        vertical-align: top;\n",
              "    }\n",
              "\n",
              "    .dataframe thead th {\n",
              "        text-align: right;\n",
              "    }\n",
              "</style>\n",
              "<table border=\"1\" class=\"dataframe\">\n",
              "  <thead>\n",
              "    <tr style=\"text-align: right;\">\n",
              "      <th></th>\n",
              "      <th>id</th>\n",
              "      <th>age</th>\n",
              "      <th>education</th>\n",
              "      <th>sex</th>\n",
              "      <th>is_smoking</th>\n",
              "      <th>cigsPerDay</th>\n",
              "      <th>BPMeds</th>\n",
              "      <th>prevalentStroke</th>\n",
              "      <th>prevalentHyp</th>\n",
              "      <th>diabetes</th>\n",
              "      <th>totChol</th>\n",
              "      <th>sysBP</th>\n",
              "      <th>diaBP</th>\n",
              "      <th>BMI</th>\n",
              "      <th>heartRate</th>\n",
              "      <th>glucose</th>\n",
              "      <th>TenYearCHD</th>\n",
              "    </tr>\n",
              "  </thead>\n",
              "  <tbody>\n",
              "  </tbody>\n",
              "</table>\n",
              "</div>\n",
              "      <button class=\"colab-df-convert\" onclick=\"convertToInteractive('df-456c3d61-2a43-43c1-8b25-d6e78e27a476')\"\n",
              "              title=\"Convert this dataframe to an interactive table.\"\n",
              "              style=\"display:none;\">\n",
              "        \n",
              "  <svg xmlns=\"http://www.w3.org/2000/svg\" height=\"24px\"viewBox=\"0 0 24 24\"\n",
              "       width=\"24px\">\n",
              "    <path d=\"M0 0h24v24H0V0z\" fill=\"none\"/>\n",
              "    <path d=\"M18.56 5.44l.94 2.06.94-2.06 2.06-.94-2.06-.94-.94-2.06-.94 2.06-2.06.94zm-11 1L8.5 8.5l.94-2.06 2.06-.94-2.06-.94L8.5 2.5l-.94 2.06-2.06.94zm10 10l.94 2.06.94-2.06 2.06-.94-2.06-.94-.94-2.06-.94 2.06-2.06.94z\"/><path d=\"M17.41 7.96l-1.37-1.37c-.4-.4-.92-.59-1.43-.59-.52 0-1.04.2-1.43.59L10.3 9.45l-7.72 7.72c-.78.78-.78 2.05 0 2.83L4 21.41c.39.39.9.59 1.41.59.51 0 1.02-.2 1.41-.59l7.78-7.78 2.81-2.81c.8-.78.8-2.07 0-2.86zM5.41 20L4 18.59l7.72-7.72 1.47 1.35L5.41 20z\"/>\n",
              "  </svg>\n",
              "      </button>\n",
              "      \n",
              "  <style>\n",
              "    .colab-df-container {\n",
              "      display:flex;\n",
              "      flex-wrap:wrap;\n",
              "      gap: 12px;\n",
              "    }\n",
              "\n",
              "    .colab-df-convert {\n",
              "      background-color: #E8F0FE;\n",
              "      border: none;\n",
              "      border-radius: 50%;\n",
              "      cursor: pointer;\n",
              "      display: none;\n",
              "      fill: #1967D2;\n",
              "      height: 32px;\n",
              "      padding: 0 0 0 0;\n",
              "      width: 32px;\n",
              "    }\n",
              "\n",
              "    .colab-df-convert:hover {\n",
              "      background-color: #E2EBFA;\n",
              "      box-shadow: 0px 1px 2px rgba(60, 64, 67, 0.3), 0px 1px 3px 1px rgba(60, 64, 67, 0.15);\n",
              "      fill: #174EA6;\n",
              "    }\n",
              "\n",
              "    [theme=dark] .colab-df-convert {\n",
              "      background-color: #3B4455;\n",
              "      fill: #D2E3FC;\n",
              "    }\n",
              "\n",
              "    [theme=dark] .colab-df-convert:hover {\n",
              "      background-color: #434B5C;\n",
              "      box-shadow: 0px 1px 3px 1px rgba(0, 0, 0, 0.15);\n",
              "      filter: drop-shadow(0px 1px 2px rgba(0, 0, 0, 0.3));\n",
              "      fill: #FFFFFF;\n",
              "    }\n",
              "  </style>\n",
              "\n",
              "      <script>\n",
              "        const buttonEl =\n",
              "          document.querySelector('#df-456c3d61-2a43-43c1-8b25-d6e78e27a476 button.colab-df-convert');\n",
              "        buttonEl.style.display =\n",
              "          google.colab.kernel.accessAllowed ? 'block' : 'none';\n",
              "\n",
              "        async function convertToInteractive(key) {\n",
              "          const element = document.querySelector('#df-456c3d61-2a43-43c1-8b25-d6e78e27a476');\n",
              "          const dataTable =\n",
              "            await google.colab.kernel.invokeFunction('convertToInteractive',\n",
              "                                                     [key], {});\n",
              "          if (!dataTable) return;\n",
              "\n",
              "          const docLinkHtml = 'Like what you see? Visit the ' +\n",
              "            '<a target=\"_blank\" href=https://colab.research.google.com/notebooks/data_table.ipynb>data table notebook</a>'\n",
              "            + ' to learn more about interactive tables.';\n",
              "          element.innerHTML = '';\n",
              "          dataTable['output_type'] = 'display_data';\n",
              "          await google.colab.output.renderOutput(dataTable, element);\n",
              "          const docLink = document.createElement('div');\n",
              "          docLink.innerHTML = docLinkHtml;\n",
              "          element.appendChild(docLink);\n",
              "        }\n",
              "      </script>\n",
              "    </div>\n",
              "  </div>\n",
              "  "
            ]
          },
          "metadata": {},
          "execution_count": 19
        }
      ]
    },
    {
      "cell_type": "markdown",
      "source": [
        "- It is safe to assume that the Null values in the cigsPerDay columns can be imputed as 0.\n",
        "- totChol,BMI,glucose distribution is slightly positively skewed, so the null values can be imputed by the median of the rest of the values for respective columns.\n",
        "- heartrate values distribution is close to normal distribution, so mean value can be imputed for null values in the column.\n"
      ],
      "metadata": {
        "id": "_wnWVHrYuPc8"
      }
    },
    {
      "cell_type": "code",
      "source": [
        "# Null value treatment for continous variables \n",
        "Dataset['cigsPerDay']=Dataset['cigsPerDay'].fillna(0)\n",
        "Dataset['totChol']=Dataset['totChol'].fillna(Dataset['totChol'].median())\n",
        "Dataset['BMI']=Dataset['BMI'].fillna(Dataset['BMI'].median())\n",
        "Dataset['heartRate']=Dataset['heartRate'].fillna(Dataset['heartRate'].mean())\n",
        "Dataset['glucose']=Dataset['glucose'].fillna(Dataset['glucose'].median())"
      ],
      "metadata": {
        "id": "X1yttTKK535B"
      },
      "execution_count": 20,
      "outputs": []
    },
    {
      "cell_type": "markdown",
      "source": [
        "For BPMeds and education mode can be appropriate value for imputing null values for respective columns"
      ],
      "metadata": {
        "id": "UZIrACrLxDc5"
      }
    },
    {
      "cell_type": "code",
      "source": [
        "# counts for BPMeds unique values\n",
        "Dataset.BPMeds.value_counts()"
      ],
      "metadata": {
        "colab": {
          "base_uri": "https://localhost:8080/"
        },
        "id": "KLPVMEFmvnS4",
        "outputId": "d3850edf-39bf-474f-9a09-b170e7e2ad27"
      },
      "execution_count": 21,
      "outputs": [
        {
          "output_type": "execute_result",
          "data": {
            "text/plain": [
              "0.0    3246\n",
              "1.0     100\n",
              "Name: BPMeds, dtype: int64"
            ]
          },
          "metadata": {},
          "execution_count": 21
        }
      ]
    },
    {
      "cell_type": "code",
      "source": [
        "# counts for education unique values\n",
        "Dataset.education.value_counts()"
      ],
      "metadata": {
        "colab": {
          "base_uri": "https://localhost:8080/"
        },
        "id": "QOsK7gvHvzp2",
        "outputId": "5225db66-0a29-4601-b723-a3cf820004f1"
      },
      "execution_count": 22,
      "outputs": [
        {
          "output_type": "execute_result",
          "data": {
            "text/plain": [
              "1.0    1391\n",
              "2.0     990\n",
              "3.0     549\n",
              "4.0     373\n",
              "Name: education, dtype: int64"
            ]
          },
          "metadata": {},
          "execution_count": 22
        }
      ]
    },
    {
      "cell_type": "code",
      "source": [
        "# null value treatment for categorical variables\n",
        "#na values filled with mode \n",
        "Dataset['BPMeds']=Dataset.BPMeds.fillna(0)\n",
        "#converting education values to float data type\n",
        "Dataset['education']=Dataset['education'].astype('float')\n",
        "# Null values imputed with mode for education\n",
        "Dataset.education.replace(np.nan,Dataset['education'].mode()[0],inplace=True)\n"
      ],
      "metadata": {
        "id": "7dSkb4WfLwZ6"
      },
      "execution_count": 23,
      "outputs": []
    },
    {
      "cell_type": "code",
      "source": [
        "Dataset.info()"
      ],
      "metadata": {
        "colab": {
          "base_uri": "https://localhost:8080/"
        },
        "id": "evon_CpHdaBe",
        "outputId": "8a865ac8-1ffe-4df5-f778-8a3bf96d07af"
      },
      "execution_count": 24,
      "outputs": [
        {
          "output_type": "stream",
          "name": "stdout",
          "text": [
            "<class 'pandas.core.frame.DataFrame'>\n",
            "RangeIndex: 3390 entries, 0 to 3389\n",
            "Data columns (total 17 columns):\n",
            " #   Column           Non-Null Count  Dtype  \n",
            "---  ------           --------------  -----  \n",
            " 0   id               3390 non-null   int64  \n",
            " 1   age              3390 non-null   int64  \n",
            " 2   education        3390 non-null   float64\n",
            " 3   sex              3390 non-null   object \n",
            " 4   is_smoking       3390 non-null   object \n",
            " 5   cigsPerDay       3390 non-null   float64\n",
            " 6   BPMeds           3390 non-null   float64\n",
            " 7   prevalentStroke  3390 non-null   int64  \n",
            " 8   prevalentHyp     3390 non-null   int64  \n",
            " 9   diabetes         3390 non-null   int64  \n",
            " 10  totChol          3390 non-null   float64\n",
            " 11  sysBP            3390 non-null   float64\n",
            " 12  diaBP            3390 non-null   float64\n",
            " 13  BMI              3390 non-null   float64\n",
            " 14  heartRate        3390 non-null   float64\n",
            " 15  glucose          3390 non-null   float64\n",
            " 16  TenYearCHD       3390 non-null   int64  \n",
            "dtypes: float64(9), int64(6), object(2)\n",
            "memory usage: 450.4+ KB\n"
          ]
        }
      ]
    },
    {
      "cell_type": "markdown",
      "source": [
        "## Encoding"
      ],
      "metadata": {
        "id": "vyYvQG7wxsDF"
      }
    },
    {
      "cell_type": "markdown",
      "source": [
        "Here there are two categorical variables with str type values, *'sex'* and *'is_smoking'*.\n",
        "\n",
        "Now the column *'is_smoking'* can be dropped, as 0 value in column cigsPerDay conveys same thing. So it would be redundant.\n",
        "\n",
        "And for sex values, one hot encoding can be used."
      ],
      "metadata": {
        "id": "xiqvfp0Kx056"
      }
    },
    {
      "cell_type": "code",
      "source": [
        "#coping original dataset\n",
        "Dataset_copy=Dataset.copy()\n",
        "\n",
        "# dropping is_smoking columns\n",
        "Dataset.drop(columns='is_smoking',inplace=True)\n",
        "\n",
        "# One hot encoding of sex column \n",
        "Dataset=pd.get_dummies(Dataset,columns=['sex'],prefix='sex')#one-hot encoding\n",
        "\n"
      ],
      "metadata": {
        "id": "RQUJVDZSxz1p"
      },
      "execution_count": 25,
      "outputs": []
    },
    {
      "cell_type": "code",
      "source": [
        "Dataset.head()"
      ],
      "metadata": {
        "colab": {
          "base_uri": "https://localhost:8080/",
          "height": 270
        },
        "id": "Zd9r7ca72vp7",
        "outputId": "59689fc8-2e4a-487c-abbd-973d24eaab9e"
      },
      "execution_count": 26,
      "outputs": [
        {
          "output_type": "execute_result",
          "data": {
            "text/plain": [
              "   id  age  education  cigsPerDay  BPMeds  prevalentStroke  prevalentHyp  \\\n",
              "0   0   64        2.0         3.0     0.0                0             0   \n",
              "1   1   36        4.0         0.0     0.0                0             1   \n",
              "2   2   46        1.0        10.0     0.0                0             0   \n",
              "3   3   50        1.0        20.0     0.0                0             1   \n",
              "4   4   64        1.0        30.0     0.0                0             0   \n",
              "\n",
              "   diabetes  totChol  sysBP  diaBP    BMI  heartRate  glucose  TenYearCHD  \\\n",
              "0         0    221.0  148.0   85.0  25.38       90.0     80.0           1   \n",
              "1         0    212.0  168.0   98.0  29.77       72.0     75.0           0   \n",
              "2         0    250.0  116.0   71.0  20.35       88.0     94.0           0   \n",
              "3         0    233.0  158.0   88.0  28.26       68.0     94.0           1   \n",
              "4         0    241.0  136.5   85.0  26.42       70.0     77.0           0   \n",
              "\n",
              "   sex_F  sex_M  \n",
              "0      1      0  \n",
              "1      0      1  \n",
              "2      1      0  \n",
              "3      0      1  \n",
              "4      1      0  "
            ],
            "text/html": [
              "\n",
              "  <div id=\"df-e6a8357f-d8ef-496b-82a9-8ee94239fb8e\">\n",
              "    <div class=\"colab-df-container\">\n",
              "      <div>\n",
              "<style scoped>\n",
              "    .dataframe tbody tr th:only-of-type {\n",
              "        vertical-align: middle;\n",
              "    }\n",
              "\n",
              "    .dataframe tbody tr th {\n",
              "        vertical-align: top;\n",
              "    }\n",
              "\n",
              "    .dataframe thead th {\n",
              "        text-align: right;\n",
              "    }\n",
              "</style>\n",
              "<table border=\"1\" class=\"dataframe\">\n",
              "  <thead>\n",
              "    <tr style=\"text-align: right;\">\n",
              "      <th></th>\n",
              "      <th>id</th>\n",
              "      <th>age</th>\n",
              "      <th>education</th>\n",
              "      <th>cigsPerDay</th>\n",
              "      <th>BPMeds</th>\n",
              "      <th>prevalentStroke</th>\n",
              "      <th>prevalentHyp</th>\n",
              "      <th>diabetes</th>\n",
              "      <th>totChol</th>\n",
              "      <th>sysBP</th>\n",
              "      <th>diaBP</th>\n",
              "      <th>BMI</th>\n",
              "      <th>heartRate</th>\n",
              "      <th>glucose</th>\n",
              "      <th>TenYearCHD</th>\n",
              "      <th>sex_F</th>\n",
              "      <th>sex_M</th>\n",
              "    </tr>\n",
              "  </thead>\n",
              "  <tbody>\n",
              "    <tr>\n",
              "      <th>0</th>\n",
              "      <td>0</td>\n",
              "      <td>64</td>\n",
              "      <td>2.0</td>\n",
              "      <td>3.0</td>\n",
              "      <td>0.0</td>\n",
              "      <td>0</td>\n",
              "      <td>0</td>\n",
              "      <td>0</td>\n",
              "      <td>221.0</td>\n",
              "      <td>148.0</td>\n",
              "      <td>85.0</td>\n",
              "      <td>25.38</td>\n",
              "      <td>90.0</td>\n",
              "      <td>80.0</td>\n",
              "      <td>1</td>\n",
              "      <td>1</td>\n",
              "      <td>0</td>\n",
              "    </tr>\n",
              "    <tr>\n",
              "      <th>1</th>\n",
              "      <td>1</td>\n",
              "      <td>36</td>\n",
              "      <td>4.0</td>\n",
              "      <td>0.0</td>\n",
              "      <td>0.0</td>\n",
              "      <td>0</td>\n",
              "      <td>1</td>\n",
              "      <td>0</td>\n",
              "      <td>212.0</td>\n",
              "      <td>168.0</td>\n",
              "      <td>98.0</td>\n",
              "      <td>29.77</td>\n",
              "      <td>72.0</td>\n",
              "      <td>75.0</td>\n",
              "      <td>0</td>\n",
              "      <td>0</td>\n",
              "      <td>1</td>\n",
              "    </tr>\n",
              "    <tr>\n",
              "      <th>2</th>\n",
              "      <td>2</td>\n",
              "      <td>46</td>\n",
              "      <td>1.0</td>\n",
              "      <td>10.0</td>\n",
              "      <td>0.0</td>\n",
              "      <td>0</td>\n",
              "      <td>0</td>\n",
              "      <td>0</td>\n",
              "      <td>250.0</td>\n",
              "      <td>116.0</td>\n",
              "      <td>71.0</td>\n",
              "      <td>20.35</td>\n",
              "      <td>88.0</td>\n",
              "      <td>94.0</td>\n",
              "      <td>0</td>\n",
              "      <td>1</td>\n",
              "      <td>0</td>\n",
              "    </tr>\n",
              "    <tr>\n",
              "      <th>3</th>\n",
              "      <td>3</td>\n",
              "      <td>50</td>\n",
              "      <td>1.0</td>\n",
              "      <td>20.0</td>\n",
              "      <td>0.0</td>\n",
              "      <td>0</td>\n",
              "      <td>1</td>\n",
              "      <td>0</td>\n",
              "      <td>233.0</td>\n",
              "      <td>158.0</td>\n",
              "      <td>88.0</td>\n",
              "      <td>28.26</td>\n",
              "      <td>68.0</td>\n",
              "      <td>94.0</td>\n",
              "      <td>1</td>\n",
              "      <td>0</td>\n",
              "      <td>1</td>\n",
              "    </tr>\n",
              "    <tr>\n",
              "      <th>4</th>\n",
              "      <td>4</td>\n",
              "      <td>64</td>\n",
              "      <td>1.0</td>\n",
              "      <td>30.0</td>\n",
              "      <td>0.0</td>\n",
              "      <td>0</td>\n",
              "      <td>0</td>\n",
              "      <td>0</td>\n",
              "      <td>241.0</td>\n",
              "      <td>136.5</td>\n",
              "      <td>85.0</td>\n",
              "      <td>26.42</td>\n",
              "      <td>70.0</td>\n",
              "      <td>77.0</td>\n",
              "      <td>0</td>\n",
              "      <td>1</td>\n",
              "      <td>0</td>\n",
              "    </tr>\n",
              "  </tbody>\n",
              "</table>\n",
              "</div>\n",
              "      <button class=\"colab-df-convert\" onclick=\"convertToInteractive('df-e6a8357f-d8ef-496b-82a9-8ee94239fb8e')\"\n",
              "              title=\"Convert this dataframe to an interactive table.\"\n",
              "              style=\"display:none;\">\n",
              "        \n",
              "  <svg xmlns=\"http://www.w3.org/2000/svg\" height=\"24px\"viewBox=\"0 0 24 24\"\n",
              "       width=\"24px\">\n",
              "    <path d=\"M0 0h24v24H0V0z\" fill=\"none\"/>\n",
              "    <path d=\"M18.56 5.44l.94 2.06.94-2.06 2.06-.94-2.06-.94-.94-2.06-.94 2.06-2.06.94zm-11 1L8.5 8.5l.94-2.06 2.06-.94-2.06-.94L8.5 2.5l-.94 2.06-2.06.94zm10 10l.94 2.06.94-2.06 2.06-.94-2.06-.94-.94-2.06-.94 2.06-2.06.94z\"/><path d=\"M17.41 7.96l-1.37-1.37c-.4-.4-.92-.59-1.43-.59-.52 0-1.04.2-1.43.59L10.3 9.45l-7.72 7.72c-.78.78-.78 2.05 0 2.83L4 21.41c.39.39.9.59 1.41.59.51 0 1.02-.2 1.41-.59l7.78-7.78 2.81-2.81c.8-.78.8-2.07 0-2.86zM5.41 20L4 18.59l7.72-7.72 1.47 1.35L5.41 20z\"/>\n",
              "  </svg>\n",
              "      </button>\n",
              "      \n",
              "  <style>\n",
              "    .colab-df-container {\n",
              "      display:flex;\n",
              "      flex-wrap:wrap;\n",
              "      gap: 12px;\n",
              "    }\n",
              "\n",
              "    .colab-df-convert {\n",
              "      background-color: #E8F0FE;\n",
              "      border: none;\n",
              "      border-radius: 50%;\n",
              "      cursor: pointer;\n",
              "      display: none;\n",
              "      fill: #1967D2;\n",
              "      height: 32px;\n",
              "      padding: 0 0 0 0;\n",
              "      width: 32px;\n",
              "    }\n",
              "\n",
              "    .colab-df-convert:hover {\n",
              "      background-color: #E2EBFA;\n",
              "      box-shadow: 0px 1px 2px rgba(60, 64, 67, 0.3), 0px 1px 3px 1px rgba(60, 64, 67, 0.15);\n",
              "      fill: #174EA6;\n",
              "    }\n",
              "\n",
              "    [theme=dark] .colab-df-convert {\n",
              "      background-color: #3B4455;\n",
              "      fill: #D2E3FC;\n",
              "    }\n",
              "\n",
              "    [theme=dark] .colab-df-convert:hover {\n",
              "      background-color: #434B5C;\n",
              "      box-shadow: 0px 1px 3px 1px rgba(0, 0, 0, 0.15);\n",
              "      filter: drop-shadow(0px 1px 2px rgba(0, 0, 0, 0.3));\n",
              "      fill: #FFFFFF;\n",
              "    }\n",
              "  </style>\n",
              "\n",
              "      <script>\n",
              "        const buttonEl =\n",
              "          document.querySelector('#df-e6a8357f-d8ef-496b-82a9-8ee94239fb8e button.colab-df-convert');\n",
              "        buttonEl.style.display =\n",
              "          google.colab.kernel.accessAllowed ? 'block' : 'none';\n",
              "\n",
              "        async function convertToInteractive(key) {\n",
              "          const element = document.querySelector('#df-e6a8357f-d8ef-496b-82a9-8ee94239fb8e');\n",
              "          const dataTable =\n",
              "            await google.colab.kernel.invokeFunction('convertToInteractive',\n",
              "                                                     [key], {});\n",
              "          if (!dataTable) return;\n",
              "\n",
              "          const docLinkHtml = 'Like what you see? Visit the ' +\n",
              "            '<a target=\"_blank\" href=https://colab.research.google.com/notebooks/data_table.ipynb>data table notebook</a>'\n",
              "            + ' to learn more about interactive tables.';\n",
              "          element.innerHTML = '';\n",
              "          dataTable['output_type'] = 'display_data';\n",
              "          await google.colab.output.renderOutput(dataTable, element);\n",
              "          const docLink = document.createElement('div');\n",
              "          docLink.innerHTML = docLinkHtml;\n",
              "          element.appendChild(docLink);\n",
              "        }\n",
              "      </script>\n",
              "    </div>\n",
              "  </div>\n",
              "  "
            ]
          },
          "metadata": {},
          "execution_count": 26
        }
      ]
    },
    {
      "cell_type": "code",
      "source": [
        "# listing updated list of categorical features\n",
        "Categorical_features=['sex_F','sex_M','BPMeds','prevalentStroke','prevalentHyp','diabetes','education','TenYearCHD']\n"
      ],
      "metadata": {
        "id": "TVNamaU3qCs9"
      },
      "execution_count": 27,
      "outputs": []
    },
    {
      "cell_type": "markdown",
      "source": [
        "## Correlation"
      ],
      "metadata": {
        "id": "jhob9hdLmCcc"
      }
    },
    {
      "cell_type": "markdown",
      "source": [
        "### Categorical-categorical corr"
      ],
      "metadata": {
        "id": "w9pYwZ2hlu6g"
      }
    },
    {
      "cell_type": "markdown",
      "source": [
        "Correlation for Categorical-Categorical pairs, cramers_V values must be used to accurately find the colinearity, instead of pearson's values."
      ],
      "metadata": {
        "id": "Eu8Si22boMym"
      }
    },
    {
      "cell_type": "code",
      "source": [
        "# categorical-categorical corr\n",
        "def cramers_V(var1,var2) :\n",
        "  crosstab =np.array(pd.crosstab(var1,var2, rownames=None, colnames=None)) # Cross table building\n",
        "  stat = chi2_contingency(crosstab)[0] # Keeping of the test statistic of the Chi2 test\n",
        "  obs = np.sum(crosstab) # Number of observations\n",
        "  mini = min(crosstab.shape)-1 # Take the minimum value between the columns and the rows of the cross table\n",
        "  return (stat/(obs*mini))"
      ],
      "metadata": {
        "id": "BxlXNkHYlLaA"
      },
      "execution_count": 28,
      "outputs": []
    },
    {
      "cell_type": "code",
      "source": [
        "# Dataframe table for cramer values for categorical values\n",
        "data_encoded=Dataset[Categorical_features]\n",
        "rows= []\n",
        "\n",
        "for var1 in data_encoded:\n",
        "  col = []\n",
        "  for var2 in data_encoded :\n",
        "    cramers =cramers_V(data_encoded[var1], data_encoded[var2]) # Cramer's V test\n",
        "    col.append(round(cramers,2)) # Keeping of the rounded value of the Cramer's V  \n",
        "  rows.append(col)\n",
        "  \n",
        "cramers_results = np.array(rows)\n",
        "df_cat_cat= pd.DataFrame(cramers_results, columns = data_encoded.columns, index =data_encoded.columns)\n"
      ],
      "metadata": {
        "id": "MPGFbnTelWHO"
      },
      "execution_count": 29,
      "outputs": []
    },
    {
      "cell_type": "code",
      "source": [
        "df_cat_cat"
      ],
      "metadata": {
        "colab": {
          "base_uri": "https://localhost:8080/",
          "height": 364
        },
        "id": "dlVEiRq_yLyh",
        "outputId": "e4cf040e-3963-46d7-af8d-a35a54757389"
      },
      "execution_count": 30,
      "outputs": [
        {
          "output_type": "execute_result",
          "data": {
            "text/plain": [
              "                 sex_F  sex_M  BPMeds  prevalentStroke  prevalentHyp  \\\n",
              "sex_F             1.00   1.00    0.00             0.00          0.00   \n",
              "sex_M             1.00   1.00    0.00             0.00          0.00   \n",
              "BPMeds            0.00   0.00    0.99             0.01          0.07   \n",
              "prevalentStroke   0.00   0.00    0.01             0.95          0.00   \n",
              "prevalentHyp      0.00   0.00    0.07             0.00          1.00   \n",
              "diabetes          0.00   0.00    0.00             0.00          0.01   \n",
              "education         0.02   0.02    0.00             0.00          0.01   \n",
              "TenYearCHD        0.01   0.01    0.01             0.00          0.03   \n",
              "\n",
              "                 diabetes  education  TenYearCHD  \n",
              "sex_F                0.00       0.02        0.01  \n",
              "sex_M                0.00       0.02        0.01  \n",
              "BPMeds               0.00       0.00        0.01  \n",
              "prevalentStroke      0.00       0.00        0.00  \n",
              "prevalentHyp         0.01       0.01        0.03  \n",
              "diabetes             0.99       0.00        0.01  \n",
              "education            0.00       1.00        0.01  \n",
              "TenYearCHD           0.01       0.01        1.00  "
            ],
            "text/html": [
              "\n",
              "  <div id=\"df-f5663a83-dd4d-4f18-a8de-46640bddafbc\">\n",
              "    <div class=\"colab-df-container\">\n",
              "      <div>\n",
              "<style scoped>\n",
              "    .dataframe tbody tr th:only-of-type {\n",
              "        vertical-align: middle;\n",
              "    }\n",
              "\n",
              "    .dataframe tbody tr th {\n",
              "        vertical-align: top;\n",
              "    }\n",
              "\n",
              "    .dataframe thead th {\n",
              "        text-align: right;\n",
              "    }\n",
              "</style>\n",
              "<table border=\"1\" class=\"dataframe\">\n",
              "  <thead>\n",
              "    <tr style=\"text-align: right;\">\n",
              "      <th></th>\n",
              "      <th>sex_F</th>\n",
              "      <th>sex_M</th>\n",
              "      <th>BPMeds</th>\n",
              "      <th>prevalentStroke</th>\n",
              "      <th>prevalentHyp</th>\n",
              "      <th>diabetes</th>\n",
              "      <th>education</th>\n",
              "      <th>TenYearCHD</th>\n",
              "    </tr>\n",
              "  </thead>\n",
              "  <tbody>\n",
              "    <tr>\n",
              "      <th>sex_F</th>\n",
              "      <td>1.00</td>\n",
              "      <td>1.00</td>\n",
              "      <td>0.00</td>\n",
              "      <td>0.00</td>\n",
              "      <td>0.00</td>\n",
              "      <td>0.00</td>\n",
              "      <td>0.02</td>\n",
              "      <td>0.01</td>\n",
              "    </tr>\n",
              "    <tr>\n",
              "      <th>sex_M</th>\n",
              "      <td>1.00</td>\n",
              "      <td>1.00</td>\n",
              "      <td>0.00</td>\n",
              "      <td>0.00</td>\n",
              "      <td>0.00</td>\n",
              "      <td>0.00</td>\n",
              "      <td>0.02</td>\n",
              "      <td>0.01</td>\n",
              "    </tr>\n",
              "    <tr>\n",
              "      <th>BPMeds</th>\n",
              "      <td>0.00</td>\n",
              "      <td>0.00</td>\n",
              "      <td>0.99</td>\n",
              "      <td>0.01</td>\n",
              "      <td>0.07</td>\n",
              "      <td>0.00</td>\n",
              "      <td>0.00</td>\n",
              "      <td>0.01</td>\n",
              "    </tr>\n",
              "    <tr>\n",
              "      <th>prevalentStroke</th>\n",
              "      <td>0.00</td>\n",
              "      <td>0.00</td>\n",
              "      <td>0.01</td>\n",
              "      <td>0.95</td>\n",
              "      <td>0.00</td>\n",
              "      <td>0.00</td>\n",
              "      <td>0.00</td>\n",
              "      <td>0.00</td>\n",
              "    </tr>\n",
              "    <tr>\n",
              "      <th>prevalentHyp</th>\n",
              "      <td>0.00</td>\n",
              "      <td>0.00</td>\n",
              "      <td>0.07</td>\n",
              "      <td>0.00</td>\n",
              "      <td>1.00</td>\n",
              "      <td>0.01</td>\n",
              "      <td>0.01</td>\n",
              "      <td>0.03</td>\n",
              "    </tr>\n",
              "    <tr>\n",
              "      <th>diabetes</th>\n",
              "      <td>0.00</td>\n",
              "      <td>0.00</td>\n",
              "      <td>0.00</td>\n",
              "      <td>0.00</td>\n",
              "      <td>0.01</td>\n",
              "      <td>0.99</td>\n",
              "      <td>0.00</td>\n",
              "      <td>0.01</td>\n",
              "    </tr>\n",
              "    <tr>\n",
              "      <th>education</th>\n",
              "      <td>0.02</td>\n",
              "      <td>0.02</td>\n",
              "      <td>0.00</td>\n",
              "      <td>0.00</td>\n",
              "      <td>0.01</td>\n",
              "      <td>0.00</td>\n",
              "      <td>1.00</td>\n",
              "      <td>0.01</td>\n",
              "    </tr>\n",
              "    <tr>\n",
              "      <th>TenYearCHD</th>\n",
              "      <td>0.01</td>\n",
              "      <td>0.01</td>\n",
              "      <td>0.01</td>\n",
              "      <td>0.00</td>\n",
              "      <td>0.03</td>\n",
              "      <td>0.01</td>\n",
              "      <td>0.01</td>\n",
              "      <td>1.00</td>\n",
              "    </tr>\n",
              "  </tbody>\n",
              "</table>\n",
              "</div>\n",
              "      <button class=\"colab-df-convert\" onclick=\"convertToInteractive('df-f5663a83-dd4d-4f18-a8de-46640bddafbc')\"\n",
              "              title=\"Convert this dataframe to an interactive table.\"\n",
              "              style=\"display:none;\">\n",
              "        \n",
              "  <svg xmlns=\"http://www.w3.org/2000/svg\" height=\"24px\"viewBox=\"0 0 24 24\"\n",
              "       width=\"24px\">\n",
              "    <path d=\"M0 0h24v24H0V0z\" fill=\"none\"/>\n",
              "    <path d=\"M18.56 5.44l.94 2.06.94-2.06 2.06-.94-2.06-.94-.94-2.06-.94 2.06-2.06.94zm-11 1L8.5 8.5l.94-2.06 2.06-.94-2.06-.94L8.5 2.5l-.94 2.06-2.06.94zm10 10l.94 2.06.94-2.06 2.06-.94-2.06-.94-.94-2.06-.94 2.06-2.06.94z\"/><path d=\"M17.41 7.96l-1.37-1.37c-.4-.4-.92-.59-1.43-.59-.52 0-1.04.2-1.43.59L10.3 9.45l-7.72 7.72c-.78.78-.78 2.05 0 2.83L4 21.41c.39.39.9.59 1.41.59.51 0 1.02-.2 1.41-.59l7.78-7.78 2.81-2.81c.8-.78.8-2.07 0-2.86zM5.41 20L4 18.59l7.72-7.72 1.47 1.35L5.41 20z\"/>\n",
              "  </svg>\n",
              "      </button>\n",
              "      \n",
              "  <style>\n",
              "    .colab-df-container {\n",
              "      display:flex;\n",
              "      flex-wrap:wrap;\n",
              "      gap: 12px;\n",
              "    }\n",
              "\n",
              "    .colab-df-convert {\n",
              "      background-color: #E8F0FE;\n",
              "      border: none;\n",
              "      border-radius: 50%;\n",
              "      cursor: pointer;\n",
              "      display: none;\n",
              "      fill: #1967D2;\n",
              "      height: 32px;\n",
              "      padding: 0 0 0 0;\n",
              "      width: 32px;\n",
              "    }\n",
              "\n",
              "    .colab-df-convert:hover {\n",
              "      background-color: #E2EBFA;\n",
              "      box-shadow: 0px 1px 2px rgba(60, 64, 67, 0.3), 0px 1px 3px 1px rgba(60, 64, 67, 0.15);\n",
              "      fill: #174EA6;\n",
              "    }\n",
              "\n",
              "    [theme=dark] .colab-df-convert {\n",
              "      background-color: #3B4455;\n",
              "      fill: #D2E3FC;\n",
              "    }\n",
              "\n",
              "    [theme=dark] .colab-df-convert:hover {\n",
              "      background-color: #434B5C;\n",
              "      box-shadow: 0px 1px 3px 1px rgba(0, 0, 0, 0.15);\n",
              "      filter: drop-shadow(0px 1px 2px rgba(0, 0, 0, 0.3));\n",
              "      fill: #FFFFFF;\n",
              "    }\n",
              "  </style>\n",
              "\n",
              "      <script>\n",
              "        const buttonEl =\n",
              "          document.querySelector('#df-f5663a83-dd4d-4f18-a8de-46640bddafbc button.colab-df-convert');\n",
              "        buttonEl.style.display =\n",
              "          google.colab.kernel.accessAllowed ? 'block' : 'none';\n",
              "\n",
              "        async function convertToInteractive(key) {\n",
              "          const element = document.querySelector('#df-f5663a83-dd4d-4f18-a8de-46640bddafbc');\n",
              "          const dataTable =\n",
              "            await google.colab.kernel.invokeFunction('convertToInteractive',\n",
              "                                                     [key], {});\n",
              "          if (!dataTable) return;\n",
              "\n",
              "          const docLinkHtml = 'Like what you see? Visit the ' +\n",
              "            '<a target=\"_blank\" href=https://colab.research.google.com/notebooks/data_table.ipynb>data table notebook</a>'\n",
              "            + ' to learn more about interactive tables.';\n",
              "          element.innerHTML = '';\n",
              "          dataTable['output_type'] = 'display_data';\n",
              "          await google.colab.output.renderOutput(dataTable, element);\n",
              "          const docLink = document.createElement('div');\n",
              "          docLink.innerHTML = docLinkHtml;\n",
              "          element.appendChild(docLink);\n",
              "        }\n",
              "      </script>\n",
              "    </div>\n",
              "  </div>\n",
              "  "
            ]
          },
          "metadata": {},
          "execution_count": 30
        }
      ]
    },
    {
      "cell_type": "code",
      "source": [
        "# plotting categorical correlation matrix\n",
        "mask = np.zeros_like(df_cat_cat, dtype=np.bool)\n",
        "mask[np.triu_indices_from(mask)] = True\n",
        "\n",
        "\n",
        "\n",
        "\n",
        "with sns.axes_style(\"white\"):\n",
        "  ax = sns.heatmap(df_cat_cat, mask=mask,vmin=0., vmax=1, square=True)\n",
        "\n",
        "plt.show()"
      ],
      "metadata": {
        "colab": {
          "base_uri": "https://localhost:8080/",
          "height": 338
        },
        "id": "ayFH1_SClWCF",
        "outputId": "c427cc73-4ca8-4fb2-e949-1506264fdeed"
      },
      "execution_count": 31,
      "outputs": [
        {
          "output_type": "display_data",
          "data": {
            "text/plain": [
              "<Figure size 432x288 with 2 Axes>"
            ],
            "image/png": "[encoded data removed]"
          },
          "metadata": {}
        }
      ]
    },
    {
      "cell_type": "markdown",
      "source": [
        "There is no apparaent correlation for any categorical variables as we can see in the figure above."
      ],
      "metadata": {
        "id": "HvfK5S7g7ACn"
      }
    },
    {
      "cell_type": "markdown",
      "source": [
        "### Continous-Continous Correlation"
      ],
      "metadata": {
        "id": "aumgaqMuOXjT"
      }
    },
    {
      "cell_type": "code",
      "source": [
        "#correlation\n",
        "plt.figure(figsize=(10,7))\n",
        "correlation = round(Dataset[Numeric_Features].corr(),2)\n",
        "sns.heatmap(abs(correlation), annot=True, cmap='coolwarm')"
      ],
      "metadata": {
        "colab": {
          "base_uri": "https://localhost:8080/",
          "height": 451
        },
        "id": "XynVg9RmmB2e",
        "outputId": "ec03cd39-5e13-462b-acfe-fa87c57383ba"
      },
      "execution_count": 32,
      "outputs": [
        {
          "output_type": "execute_result",
          "data": {
            "text/plain": [
              "<matplotlib.axes._subplots.AxesSubplot at 0x7fc19c5d15d0>"
            ]
          },
          "metadata": {},
          "execution_count": 32
        },
        {
          "output_type": "display_data",
          "data": {
            "text/plain": [
              "<Figure size 720x504 with 2 Axes>"
            ],
            "image/png": "[encoded data removed]"
          },
          "metadata": {
            "needs_background": "light"
          }
        }
      ]
    },
    {
      "cell_type": "markdown",
      "source": [
        "There is a high correlation for sysBP and diaBP pair. As we know Pulse pressure is one measure which is the difference b/w sysBP and diaBP. So we can drop diaBP and add add Pulse pressure in the dataset to move forward."
      ],
      "metadata": {
        "id": "uHaycAa97JuT"
      }
    },
    {
      "cell_type": "code",
      "source": [
        "# creating pulse pressure column using sysB and diaBP values\n",
        "Dataset['PP']=Dataset['sysBP']-Dataset['diaBP']\n",
        "# dropping diaBP column for avoiding multicolinearity\n",
        "Dataset.drop(columns=['diaBP'],inplace=True)"
      ],
      "metadata": {
        "id": "HI6iCYZIVcMX"
      },
      "execution_count": 33,
      "outputs": []
    },
    {
      "cell_type": "code",
      "source": [
        "# updateing numerical features names list\n",
        "Numeric_Features=['age',\n",
        " 'cigsPerDay',\n",
        " 'totChol',\n",
        "'sysBP',\n",
        " 'BMI',\n",
        " 'heartRate',\n",
        " 'glucose']"
      ],
      "metadata": {
        "id": "gESeulGaV6_j"
      },
      "execution_count": 34,
      "outputs": []
    },
    {
      "cell_type": "markdown",
      "source": [
        "# Data Transformation and Preparation"
      ],
      "metadata": {
        "id": "F70poo0nr_uE"
      }
    },
    {
      "cell_type": "markdown",
      "source": [
        "As we have seen in the univariate analysis of continous features, some variables were positively skewed. We can apply log1p transformation for trying to make the distribution more like normal."
      ],
      "metadata": {
        "id": "TK0AMJ0Y9Evq"
      }
    },
    {
      "cell_type": "code",
      "source": [
        "# log1p transformation of continous features\n",
        "plt.figure(figsize=(20,10))\n",
        "\n",
        "for num,feat in enumerate(Numeric_Features):\n",
        "  plt.subplot(3,3,num+1)\n",
        "  sns.distplot(np.log1p(Dataset[feat]))\n",
        "\n"
      ],
      "metadata": {
        "colab": {
          "base_uri": "https://localhost:8080/",
          "height": 334
        },
        "id": "7VeCQC6H9RHM",
        "outputId": "6667ec31-35f2-4d24-a6ed-54c369d3dde9"
      },
      "execution_count": 35,
      "outputs": [
        {
          "output_type": "display_data",
          "data": {
            "text/plain": [
              "<Figure size 1440x720 with 7 Axes>"
            ],
            "image/png": "[encoded data removed]"
          },
          "metadata": {
            "needs_background": "light"
          }
        }
      ]
    },
    {
      "cell_type": "markdown",
      "source": [
        "Much improvement can be seen in terms of distribution for each continous features as we can see above. So before data preparation for models, log1p transformation will be applied."
      ],
      "metadata": {
        "id": "YO5Va1YL9Y_K"
      }
    },
    {
      "cell_type": "code",
      "source": [
        "#features and target data preparation\n",
        "\n",
        "X=Dataset.drop(columns=['TenYearCHD','id'])\n",
        "Features=X.columns\n",
        "y=Dataset['TenYearCHD']\n",
        "X"
      ],
      "metadata": {
        "colab": {
          "base_uri": "https://localhost:8080/",
          "height": 488
        },
        "id": "-FIL1yE0AOqD",
        "outputId": "64ef9da2-cf36-4983-daa2-8b9e2bec779e"
      },
      "execution_count": 36,
      "outputs": [
        {
          "output_type": "execute_result",
          "data": {
            "text/plain": [
              "      age  education  cigsPerDay  BPMeds  prevalentStroke  prevalentHyp  \\\n",
              "0      64        2.0         3.0     0.0                0             0   \n",
              "1      36        4.0         0.0     0.0                0             1   \n",
              "2      46        1.0        10.0     0.0                0             0   \n",
              "3      50        1.0        20.0     0.0                0             1   \n",
              "4      64        1.0        30.0     0.0                0             0   \n",
              "...   ...        ...         ...     ...              ...           ...   \n",
              "3385   60        1.0         0.0     0.0                0             0   \n",
              "3386   46        1.0         0.0     0.0                0             0   \n",
              "3387   44        3.0         3.0     0.0                0             1   \n",
              "3388   60        1.0         0.0     0.0                0             1   \n",
              "3389   54        3.0         0.0     0.0                0             0   \n",
              "\n",
              "      diabetes  totChol  sysBP    BMI  heartRate  glucose  sex_F  sex_M    PP  \n",
              "0            0    221.0  148.0  25.38       90.0     80.0      1      0  63.0  \n",
              "1            0    212.0  168.0  29.77       72.0     75.0      0      1  70.0  \n",
              "2            0    250.0  116.0  20.35       88.0     94.0      1      0  45.0  \n",
              "3            0    233.0  158.0  28.26       68.0     94.0      0      1  70.0  \n",
              "4            0    241.0  136.5  26.42       70.0     77.0      1      0  51.5  \n",
              "...        ...      ...    ...    ...        ...      ...    ...    ...   ...  \n",
              "3385         0    261.0  123.5  29.28       70.0    103.0      1      0  44.5  \n",
              "3386         0    199.0  102.0  21.96       80.0     84.0      1      0  46.0  \n",
              "3387         0    352.0  164.0  28.92       73.0     72.0      0      1  45.0  \n",
              "3388         0    191.0  167.0  23.01       80.0     85.0      0      1  62.0  \n",
              "3389         0    288.0  124.0  29.88       79.0     92.0      1      0  47.0  \n",
              "\n",
              "[3390 rows x 15 columns]"
            ],
            "text/html": [
              "\n",
              "  <div id=\"df-59656dcb-f061-40b5-af56-4910cad98623\">\n",
              "    <div class=\"colab-df-container\">\n",
              "      <div>\n",
              "<style scoped>\n",
              "    .dataframe tbody tr th:only-of-type {\n",
              "        vertical-align: middle;\n",
              "    }\n",
              "\n",
              "    .dataframe tbody tr th {\n",
              "        vertical-align: top;\n",
              "    }\n",
              "\n",
              "    .dataframe thead th {\n",
              "        text-align: right;\n",
              "    }\n",
              "</style>\n",
              "<table border=\"1\" class=\"dataframe\">\n",
              "  <thead>\n",
              "    <tr style=\"text-align: right;\">\n",
              "      <th></th>\n",
              "      <th>age</th>\n",
              "      <th>education</th>\n",
              "      <th>cigsPerDay</th>\n",
              "      <th>BPMeds</th>\n",
              "      <th>prevalentStroke</th>\n",
              "      <th>prevalentHyp</th>\n",
              "      <th>diabetes</th>\n",
              "      <th>totChol</th>\n",
              "      <th>sysBP</th>\n",
              "      <th>BMI</th>\n",
              "      <th>heartRate</th>\n",
              "      <th>glucose</th>\n",
              "      <th>sex_F</th>\n",
              "      <th>sex_M</th>\n",
              "      <th>PP</th>\n",
              "    </tr>\n",
              "  </thead>\n",
              "  <tbody>\n",
              "    <tr>\n",
              "      <th>0</th>\n",
              "      <td>64</td>\n",
              "      <td>2.0</td>\n",
              "      <td>3.0</td>\n",
              "      <td>0.0</td>\n",
              "      <td>0</td>\n",
              "      <td>0</td>\n",
              "      <td>0</td>\n",
              "      <td>221.0</td>\n",
              "      <td>148.0</td>\n",
              "      <td>25.38</td>\n",
              "      <td>90.0</td>\n",
              "      <td>80.0</td>\n",
              "      <td>1</td>\n",
              "      <td>0</td>\n",
              "      <td>63.0</td>\n",
              "    </tr>\n",
              "    <tr>\n",
              "      <th>1</th>\n",
              "      <td>36</td>\n",
              "      <td>4.0</td>\n",
              "      <td>0.0</td>\n",
              "      <td>0.0</td>\n",
              "      <td>0</td>\n",
              "      <td>1</td>\n",
              "      <td>0</td>\n",
              "      <td>212.0</td>\n",
              "      <td>168.0</td>\n",
              "      <td>29.77</td>\n",
              "      <td>72.0</td>\n",
              "      <td>75.0</td>\n",
              "      <td>0</td>\n",
              "      <td>1</td>\n",
              "      <td>70.0</td>\n",
              "    </tr>\n",
              "    <tr>\n",
              "      <th>2</th>\n",
              "      <td>46</td>\n",
              "      <td>1.0</td>\n",
              "      <td>10.0</td>\n",
              "      <td>0.0</td>\n",
              "      <td>0</td>\n",
              "      <td>0</td>\n",
              "      <td>0</td>\n",
              "      <td>250.0</td>\n",
              "      <td>116.0</td>\n",
              "      <td>20.35</td>\n",
              "      <td>88.0</td>\n",
              "      <td>94.0</td>\n",
              "      <td>1</td>\n",
              "      <td>0</td>\n",
              "      <td>45.0</td>\n",
              "    </tr>\n",
              "    <tr>\n",
              "      <th>3</th>\n",
              "      <td>50</td>\n",
              "      <td>1.0</td>\n",
              "      <td>20.0</td>\n",
              "      <td>0.0</td>\n",
              "      <td>0</td>\n",
              "      <td>1</td>\n",
              "      <td>0</td>\n",
              "      <td>233.0</td>\n",
              "      <td>158.0</td>\n",
              "      <td>28.26</td>\n",
              "      <td>68.0</td>\n",
              "      <td>94.0</td>\n",
              "      <td>0</td>\n",
              "      <td>1</td>\n",
              "      <td>70.0</td>\n",
              "    </tr>\n",
              "    <tr>\n",
              "      <th>4</th>\n",
              "      <td>64</td>\n",
              "      <td>1.0</td>\n",
              "      <td>30.0</td>\n",
              "      <td>0.0</td>\n",
              "      <td>0</td>\n",
              "      <td>0</td>\n",
              "      <td>0</td>\n",
              "      <td>241.0</td>\n",
              "      <td>136.5</td>\n",
              "      <td>26.42</td>\n",
              "      <td>70.0</td>\n",
              "      <td>77.0</td>\n",
              "      <td>1</td>\n",
              "      <td>0</td>\n",
              "      <td>51.5</td>\n",
              "    </tr>\n",
              "    <tr>\n",
              "      <th>...</th>\n",
              "      <td>...</td>\n",
              "      <td>...</td>\n",
              "      <td>...</td>\n",
              "      <td>...</td>\n",
              "      <td>...</td>\n",
              "      <td>...</td>\n",
              "      <td>...</td>\n",
              "      <td>...</td>\n",
              "      <td>...</td>\n",
              "      <td>...</td>\n",
              "      <td>...</td>\n",
              "      <td>...</td>\n",
              "      <td>...</td>\n",
              "      <td>...</td>\n",
              "      <td>...</td>\n",
              "    </tr>\n",
              "    <tr>\n",
              "      <th>3385</th>\n",
              "      <td>60</td>\n",
              "      <td>1.0</td>\n",
              "      <td>0.0</td>\n",
              "      <td>0.0</td>\n",
              "      <td>0</td>\n",
              "      <td>0</td>\n",
              "      <td>0</td>\n",
              "      <td>261.0</td>\n",
              "      <td>123.5</td>\n",
              "      <td>29.28</td>\n",
              "      <td>70.0</td>\n",
              "      <td>103.0</td>\n",
              "      <td>1</td>\n",
              "      <td>0</td>\n",
              "      <td>44.5</td>\n",
              "    </tr>\n",
              "    <tr>\n",
              "      <th>3386</th>\n",
              "      <td>46</td>\n",
              "      <td>1.0</td>\n",
              "      <td>0.0</td>\n",
              "      <td>0.0</td>\n",
              "      <td>0</td>\n",
              "      <td>0</td>\n",
              "      <td>0</td>\n",
              "      <td>199.0</td>\n",
              "      <td>102.0</td>\n",
              "      <td>21.96</td>\n",
              "      <td>80.0</td>\n",
              "      <td>84.0</td>\n",
              "      <td>1</td>\n",
              "      <td>0</td>\n",
              "      <td>46.0</td>\n",
              "    </tr>\n",
              "    <tr>\n",
              "      <th>3387</th>\n",
              "      <td>44</td>\n",
              "      <td>3.0</td>\n",
              "      <td>3.0</td>\n",
              "      <td>0.0</td>\n",
              "      <td>0</td>\n",
              "      <td>1</td>\n",
              "      <td>0</td>\n",
              "      <td>352.0</td>\n",
              "      <td>164.0</td>\n",
              "      <td>28.92</td>\n",
              "      <td>73.0</td>\n",
              "      <td>72.0</td>\n",
              "      <td>0</td>\n",
              "      <td>1</td>\n",
              "      <td>45.0</td>\n",
              "    </tr>\n",
              "    <tr>\n",
              "      <th>3388</th>\n",
              "      <td>60</td>\n",
              "      <td>1.0</td>\n",
              "      <td>0.0</td>\n",
              "      <td>0.0</td>\n",
              "      <td>0</td>\n",
              "      <td>1</td>\n",
              "      <td>0</td>\n",
              "      <td>191.0</td>\n",
              "      <td>167.0</td>\n",
              "      <td>23.01</td>\n",
              "      <td>80.0</td>\n",
              "      <td>85.0</td>\n",
              "      <td>0</td>\n",
              "      <td>1</td>\n",
              "      <td>62.0</td>\n",
              "    </tr>\n",
              "    <tr>\n",
              "      <th>3389</th>\n",
              "      <td>54</td>\n",
              "      <td>3.0</td>\n",
              "      <td>0.0</td>\n",
              "      <td>0.0</td>\n",
              "      <td>0</td>\n",
              "      <td>0</td>\n",
              "      <td>0</td>\n",
              "      <td>288.0</td>\n",
              "      <td>124.0</td>\n",
              "      <td>29.88</td>\n",
              "      <td>79.0</td>\n",
              "      <td>92.0</td>\n",
              "      <td>1</td>\n",
              "      <td>0</td>\n",
              "      <td>47.0</td>\n",
              "    </tr>\n",
              "  </tbody>\n",
              "</table>\n",
              "<p>3390 rows × 15 columns</p>\n",
              "</div>\n",
              "      <button class=\"colab-df-convert\" onclick=\"convertToInteractive('df-59656dcb-f061-40b5-af56-4910cad98623')\"\n",
              "              title=\"Convert this dataframe to an interactive table.\"\n",
              "              style=\"display:none;\">\n",
              "        \n",
              "  <svg xmlns=\"http://www.w3.org/2000/svg\" height=\"24px\"viewBox=\"0 0 24 24\"\n",
              "       width=\"24px\">\n",
              "    <path d=\"M0 0h24v24H0V0z\" fill=\"none\"/>\n",
              "    <path d=\"M18.56 5.44l.94 2.06.94-2.06 2.06-.94-2.06-.94-.94-2.06-.94 2.06-2.06.94zm-11 1L8.5 8.5l.94-2.06 2.06-.94-2.06-.94L8.5 2.5l-.94 2.06-2.06.94zm10 10l.94 2.06.94-2.06 2.06-.94-2.06-.94-.94-2.06-.94 2.06-2.06.94z\"/><path d=\"M17.41 7.96l-1.37-1.37c-.4-.4-.92-.59-1.43-.59-.52 0-1.04.2-1.43.59L10.3 9.45l-7.72 7.72c-.78.78-.78 2.05 0 2.83L4 21.41c.39.39.9.59 1.41.59.51 0 1.02-.2 1.41-.59l7.78-7.78 2.81-2.81c.8-.78.8-2.07 0-2.86zM5.41 20L4 18.59l7.72-7.72 1.47 1.35L5.41 20z\"/>\n",
              "  </svg>\n",
              "      </button>\n",
              "      \n",
              "  <style>\n",
              "    .colab-df-container {\n",
              "      display:flex;\n",
              "      flex-wrap:wrap;\n",
              "      gap: 12px;\n",
              "    }\n",
              "\n",
              "    .colab-df-convert {\n",
              "      background-color: #E8F0FE;\n",
              "      border: none;\n",
              "      border-radius: 50%;\n",
              "      cursor: pointer;\n",
              "      display: none;\n",
              "      fill: #1967D2;\n",
              "      height: 32px;\n",
              "      padding: 0 0 0 0;\n",
              "      width: 32px;\n",
              "    }\n",
              "\n",
              "    .colab-df-convert:hover {\n",
              "      background-color: #E2EBFA;\n",
              "      box-shadow: 0px 1px 2px rgba(60, 64, 67, 0.3), 0px 1px 3px 1px rgba(60, 64, 67, 0.15);\n",
              "      fill: #174EA6;\n",
              "    }\n",
              "\n",
              "    [theme=dark] .colab-df-convert {\n",
              "      background-color: #3B4455;\n",
              "      fill: #D2E3FC;\n",
              "    }\n",
              "\n",
              "    [theme=dark] .colab-df-convert:hover {\n",
              "      background-color: #434B5C;\n",
              "      box-shadow: 0px 1px 3px 1px rgba(0, 0, 0, 0.15);\n",
              "      filter: drop-shadow(0px 1px 2px rgba(0, 0, 0, 0.3));\n",
              "      fill: #FFFFFF;\n",
              "    }\n",
              "  </style>\n",
              "\n",
              "      <script>\n",
              "        const buttonEl =\n",
              "          document.querySelector('#df-59656dcb-f061-40b5-af56-4910cad98623 button.colab-df-convert');\n",
              "        buttonEl.style.display =\n",
              "          google.colab.kernel.accessAllowed ? 'block' : 'none';\n",
              "\n",
              "        async function convertToInteractive(key) {\n",
              "          const element = document.querySelector('#df-59656dcb-f061-40b5-af56-4910cad98623');\n",
              "          const dataTable =\n",
              "            await google.colab.kernel.invokeFunction('convertToInteractive',\n",
              "                                                     [key], {});\n",
              "          if (!dataTable) return;\n",
              "\n",
              "          const docLinkHtml = 'Like what you see? Visit the ' +\n",
              "            '<a target=\"_blank\" href=https://colab.research.google.com/notebooks/data_table.ipynb>data table notebook</a>'\n",
              "            + ' to learn more about interactive tables.';\n",
              "          element.innerHTML = '';\n",
              "          dataTable['output_type'] = 'display_data';\n",
              "          await google.colab.output.renderOutput(dataTable, element);\n",
              "          const docLink = document.createElement('div');\n",
              "          docLink.innerHTML = docLinkHtml;\n",
              "          element.appendChild(docLink);\n",
              "        }\n",
              "      </script>\n",
              "    </div>\n",
              "  </div>\n",
              "  "
            ]
          },
          "metadata": {},
          "execution_count": 36
        }
      ]
    },
    {
      "cell_type": "code",
      "source": [
        "# #normalizing and transforming numerical features to better scale \n",
        "X[Numeric_Features]=X[Numeric_Features].apply(np.log1p)\n",
        "X[Numeric_Features]=X[Numeric_Features].apply(zscore)\n",
        "X"
      ],
      "metadata": {
        "id": "OPeZORUx58du",
        "colab": {
          "base_uri": "https://localhost:8080/",
          "height": 488
        },
        "outputId": "f5b5d8de-0105-41e7-f06e-ec1a2e6da34f"
      },
      "execution_count": 37,
      "outputs": [
        {
          "output_type": "execute_result",
          "data": {
            "text/plain": [
              "           age  education  cigsPerDay  BPMeds  prevalentStroke  prevalentHyp  \\\n",
              "0     1.560602        2.0    0.020119     0.0                0             0   \n",
              "1    -1.744449        4.0   -0.924209     0.0                0             1   \n",
              "2    -0.341239        1.0    0.709211     0.0                0             0   \n",
              "3     0.137847        1.0    1.149687     0.0                0             1   \n",
              "4     1.560602        1.0    1.414986     0.0                0             0   \n",
              "...        ...        ...         ...     ...              ...           ...   \n",
              "3385  1.188061        1.0   -0.924209     0.0                0             0   \n",
              "3386 -0.341239        1.0   -0.924209     0.0                0             0   \n",
              "3387 -0.596302        3.0    0.020119     0.0                0             1   \n",
              "3388  1.188061        1.0   -0.924209     0.0                0             1   \n",
              "3389  0.580739        3.0   -0.924209     0.0                0             0   \n",
              "\n",
              "      diabetes   totChol     sysBP       BMI  heartRate   glucose  sex_F  \\\n",
              "0            0 -0.282994  0.773215 -0.030036   1.174479  0.010829      1   \n",
              "1            0 -0.506064  1.571906  1.012735  -0.271038 -0.315204      0   \n",
              "2            0  0.378777 -0.759914 -1.463136   1.028726  0.826619      1   \n",
              "3            0  0.000760  1.185127  0.671868  -0.640635  0.826619      0   \n",
              "4            0  0.181957  0.263874  0.231896  -0.453233 -0.182287      1   \n",
              "...        ...       ...       ...       ...        ...       ...    ...   \n",
              "3385         0  0.609966 -0.365923  0.903991  -0.453233  1.289778      1   \n",
              "3386         0 -0.845504 -1.568069 -0.970644   0.410989  0.257479      1   \n",
              "3387         0  2.216878  1.420014  0.822971  -0.181804 -0.521285      0   \n",
              "3388         0 -1.065538  1.534273 -0.667725   0.410989  0.317327      0   \n",
              "3389         0  1.138638 -0.340507  1.036909   0.329515  0.717743      1   \n",
              "\n",
              "      sex_M    PP  \n",
              "0         0  63.0  \n",
              "1         1  70.0  \n",
              "2         0  45.0  \n",
              "3         1  70.0  \n",
              "4         0  51.5  \n",
              "...     ...   ...  \n",
              "3385      0  44.5  \n",
              "3386      0  46.0  \n",
              "3387      1  45.0  \n",
              "3388      1  62.0  \n",
              "3389      0  47.0  \n",
              "\n",
              "[3390 rows x 15 columns]"
            ],
            "text/html": [
              "\n",
              "  <div id=\"df-b095645a-d9e1-48d7-a5ba-c9b54f0cefaa\">\n",
              "    <div class=\"colab-df-container\">\n",
              "      <div>\n",
              "<style scoped>\n",
              "    .dataframe tbody tr th:only-of-type {\n",
              "        vertical-align: middle;\n",
              "    }\n",
              "\n",
              "    .dataframe tbody tr th {\n",
              "        vertical-align: top;\n",
              "    }\n",
              "\n",
              "    .dataframe thead th {\n",
              "        text-align: right;\n",
              "    }\n",
              "</style>\n",
              "<table border=\"1\" class=\"dataframe\">\n",
              "  <thead>\n",
              "    <tr style=\"text-align: right;\">\n",
              "      <th></th>\n",
              "      <th>age</th>\n",
              "      <th>education</th>\n",
              "      <th>cigsPerDay</th>\n",
              "      <th>BPMeds</th>\n",
              "      <th>prevalentStroke</th>\n",
              "      <th>prevalentHyp</th>\n",
              "      <th>diabetes</th>\n",
              "      <th>totChol</th>\n",
              "      <th>sysBP</th>\n",
              "      <th>BMI</th>\n",
              "      <th>heartRate</th>\n",
              "      <th>glucose</th>\n",
              "      <th>sex_F</th>\n",
              "      <th>sex_M</th>\n",
              "      <th>PP</th>\n",
              "    </tr>\n",
              "  </thead>\n",
              "  <tbody>\n",
              "    <tr>\n",
              "      <th>0</th>\n",
              "      <td>1.560602</td>\n",
              "      <td>2.0</td>\n",
              "      <td>0.020119</td>\n",
              "      <td>0.0</td>\n",
              "      <td>0</td>\n",
              "      <td>0</td>\n",
              "      <td>0</td>\n",
              "      <td>-0.282994</td>\n",
              "      <td>0.773215</td>\n",
              "      <td>-0.030036</td>\n",
              "      <td>1.174479</td>\n",
              "      <td>0.010829</td>\n",
              "      <td>1</td>\n",
              "      <td>0</td>\n",
              "      <td>63.0</td>\n",
              "    </tr>\n",
              "    <tr>\n",
              "      <th>1</th>\n",
              "      <td>-1.744449</td>\n",
              "      <td>4.0</td>\n",
              "      <td>-0.924209</td>\n",
              "      <td>0.0</td>\n",
              "      <td>0</td>\n",
              "      <td>1</td>\n",
              "      <td>0</td>\n",
              "      <td>-0.506064</td>\n",
              "      <td>1.571906</td>\n",
              "      <td>1.012735</td>\n",
              "      <td>-0.271038</td>\n",
              "      <td>-0.315204</td>\n",
              "      <td>0</td>\n",
              "      <td>1</td>\n",
              "      <td>70.0</td>\n",
              "    </tr>\n",
              "    <tr>\n",
              "      <th>2</th>\n",
              "      <td>-0.341239</td>\n",
              "      <td>1.0</td>\n",
              "      <td>0.709211</td>\n",
              "      <td>0.0</td>\n",
              "      <td>0</td>\n",
              "      <td>0</td>\n",
              "      <td>0</td>\n",
              "      <td>0.378777</td>\n",
              "      <td>-0.759914</td>\n",
              "      <td>-1.463136</td>\n",
              "      <td>1.028726</td>\n",
              "      <td>0.826619</td>\n",
              "      <td>1</td>\n",
              "      <td>0</td>\n",
              "      <td>45.0</td>\n",
              "    </tr>\n",
              "    <tr>\n",
              "      <th>3</th>\n",
              "      <td>0.137847</td>\n",
              "      <td>1.0</td>\n",
              "      <td>1.149687</td>\n",
              "      <td>0.0</td>\n",
              "      <td>0</td>\n",
              "      <td>1</td>\n",
              "      <td>0</td>\n",
              "      <td>0.000760</td>\n",
              "      <td>1.185127</td>\n",
              "      <td>0.671868</td>\n",
              "      <td>-0.640635</td>\n",
              "      <td>0.826619</td>\n",
              "      <td>0</td>\n",
              "      <td>1</td>\n",
              "      <td>70.0</td>\n",
              "    </tr>\n",
              "    <tr>\n",
              "      <th>4</th>\n",
              "      <td>1.560602</td>\n",
              "      <td>1.0</td>\n",
              "      <td>1.414986</td>\n",
              "      <td>0.0</td>\n",
              "      <td>0</td>\n",
              "      <td>0</td>\n",
              "      <td>0</td>\n",
              "      <td>0.181957</td>\n",
              "      <td>0.263874</td>\n",
              "      <td>0.231896</td>\n",
              "      <td>-0.453233</td>\n",
              "      <td>-0.182287</td>\n",
              "      <td>1</td>\n",
              "      <td>0</td>\n",
              "      <td>51.5</td>\n",
              "    </tr>\n",
              "    <tr>\n",
              "      <th>...</th>\n",
              "      <td>...</td>\n",
              "      <td>...</td>\n",
              "      <td>...</td>\n",
              "      <td>...</td>\n",
              "      <td>...</td>\n",
              "      <td>...</td>\n",
              "      <td>...</td>\n",
              "      <td>...</td>\n",
              "      <td>...</td>\n",
              "      <td>...</td>\n",
              "      <td>...</td>\n",
              "      <td>...</td>\n",
              "      <td>...</td>\n",
              "      <td>...</td>\n",
              "      <td>...</td>\n",
              "    </tr>\n",
              "    <tr>\n",
              "      <th>3385</th>\n",
              "      <td>1.188061</td>\n",
              "      <td>1.0</td>\n",
              "      <td>-0.924209</td>\n",
              "      <td>0.0</td>\n",
              "      <td>0</td>\n",
              "      <td>0</td>\n",
              "      <td>0</td>\n",
              "      <td>0.609966</td>\n",
              "      <td>-0.365923</td>\n",
              "      <td>0.903991</td>\n",
              "      <td>-0.453233</td>\n",
              "      <td>1.289778</td>\n",
              "      <td>1</td>\n",
              "      <td>0</td>\n",
              "      <td>44.5</td>\n",
              "    </tr>\n",
              "    <tr>\n",
              "      <th>3386</th>\n",
              "      <td>-0.341239</td>\n",
              "      <td>1.0</td>\n",
              "      <td>-0.924209</td>\n",
              "      <td>0.0</td>\n",
              "      <td>0</td>\n",
              "      <td>0</td>\n",
              "      <td>0</td>\n",
              "      <td>-0.845504</td>\n",
              "      <td>-1.568069</td>\n",
              "      <td>-0.970644</td>\n",
              "      <td>0.410989</td>\n",
              "      <td>0.257479</td>\n",
              "      <td>1</td>\n",
              "      <td>0</td>\n",
              "      <td>46.0</td>\n",
              "    </tr>\n",
              "    <tr>\n",
              "      <th>3387</th>\n",
              "      <td>-0.596302</td>\n",
              "      <td>3.0</td>\n",
              "      <td>0.020119</td>\n",
              "      <td>0.0</td>\n",
              "      <td>0</td>\n",
              "      <td>1</td>\n",
              "      <td>0</td>\n",
              "      <td>2.216878</td>\n",
              "      <td>1.420014</td>\n",
              "      <td>0.822971</td>\n",
              "      <td>-0.181804</td>\n",
              "      <td>-0.521285</td>\n",
              "      <td>0</td>\n",
              "      <td>1</td>\n",
              "      <td>45.0</td>\n",
              "    </tr>\n",
              "    <tr>\n",
              "      <th>3388</th>\n",
              "      <td>1.188061</td>\n",
              "      <td>1.0</td>\n",
              "      <td>-0.924209</td>\n",
              "      <td>0.0</td>\n",
              "      <td>0</td>\n",
              "      <td>1</td>\n",
              "      <td>0</td>\n",
              "      <td>-1.065538</td>\n",
              "      <td>1.534273</td>\n",
              "      <td>-0.667725</td>\n",
              "      <td>0.410989</td>\n",
              "      <td>0.317327</td>\n",
              "      <td>0</td>\n",
              "      <td>1</td>\n",
              "      <td>62.0</td>\n",
              "    </tr>\n",
              "    <tr>\n",
              "      <th>3389</th>\n",
              "      <td>0.580739</td>\n",
              "      <td>3.0</td>\n",
              "      <td>-0.924209</td>\n",
              "      <td>0.0</td>\n",
              "      <td>0</td>\n",
              "      <td>0</td>\n",
              "      <td>0</td>\n",
              "      <td>1.138638</td>\n",
              "      <td>-0.340507</td>\n",
              "      <td>1.036909</td>\n",
              "      <td>0.329515</td>\n",
              "      <td>0.717743</td>\n",
              "      <td>1</td>\n",
              "      <td>0</td>\n",
              "      <td>47.0</td>\n",
              "    </tr>\n",
              "  </tbody>\n",
              "</table>\n",
              "<p>3390 rows × 15 columns</p>\n",
              "</div>\n",
              "      <button class=\"colab-df-convert\" onclick=\"convertToInteractive('df-b095645a-d9e1-48d7-a5ba-c9b54f0cefaa')\"\n",
              "              title=\"Convert this dataframe to an interactive table.\"\n",
              "              style=\"display:none;\">\n",
              "        \n",
              "  <svg xmlns=\"http://www.w3.org/2000/svg\" height=\"24px\"viewBox=\"0 0 24 24\"\n",
              "       width=\"24px\">\n",
              "    <path d=\"M0 0h24v24H0V0z\" fill=\"none\"/>\n",
              "    <path d=\"M18.56 5.44l.94 2.06.94-2.06 2.06-.94-2.06-.94-.94-2.06-.94 2.06-2.06.94zm-11 1L8.5 8.5l.94-2.06 2.06-.94-2.06-.94L8.5 2.5l-.94 2.06-2.06.94zm10 10l.94 2.06.94-2.06 2.06-.94-2.06-.94-.94-2.06-.94 2.06-2.06.94z\"/><path d=\"M17.41 7.96l-1.37-1.37c-.4-.4-.92-.59-1.43-.59-.52 0-1.04.2-1.43.59L10.3 9.45l-7.72 7.72c-.78.78-.78 2.05 0 2.83L4 21.41c.39.39.9.59 1.41.59.51 0 1.02-.2 1.41-.59l7.78-7.78 2.81-2.81c.8-.78.8-2.07 0-2.86zM5.41 20L4 18.59l7.72-7.72 1.47 1.35L5.41 20z\"/>\n",
              "  </svg>\n",
              "      </button>\n",
              "      \n",
              "  <style>\n",
              "    .colab-df-container {\n",
              "      display:flex;\n",
              "      flex-wrap:wrap;\n",
              "      gap: 12px;\n",
              "    }\n",
              "\n",
              "    .colab-df-convert {\n",
              "      background-color: #E8F0FE;\n",
              "      border: none;\n",
              "      border-radius: 50%;\n",
              "      cursor: pointer;\n",
              "      display: none;\n",
              "      fill: #1967D2;\n",
              "      height: 32px;\n",
              "      padding: 0 0 0 0;\n",
              "      width: 32px;\n",
              "    }\n",
              "\n",
              "    .colab-df-convert:hover {\n",
              "      background-color: #E2EBFA;\n",
              "      box-shadow: 0px 1px 2px rgba(60, 64, 67, 0.3), 0px 1px 3px 1px rgba(60, 64, 67, 0.15);\n",
              "      fill: #174EA6;\n",
              "    }\n",
              "\n",
              "    [theme=dark] .colab-df-convert {\n",
              "      background-color: #3B4455;\n",
              "      fill: #D2E3FC;\n",
              "    }\n",
              "\n",
              "    [theme=dark] .colab-df-convert:hover {\n",
              "      background-color: #434B5C;\n",
              "      box-shadow: 0px 1px 3px 1px rgba(0, 0, 0, 0.15);\n",
              "      filter: drop-shadow(0px 1px 2px rgba(0, 0, 0, 0.3));\n",
              "      fill: #FFFFFF;\n",
              "    }\n",
              "  </style>\n",
              "\n",
              "      <script>\n",
              "        const buttonEl =\n",
              "          document.querySelector('#df-b095645a-d9e1-48d7-a5ba-c9b54f0cefaa button.colab-df-convert');\n",
              "        buttonEl.style.display =\n",
              "          google.colab.kernel.accessAllowed ? 'block' : 'none';\n",
              "\n",
              "        async function convertToInteractive(key) {\n",
              "          const element = document.querySelector('#df-b095645a-d9e1-48d7-a5ba-c9b54f0cefaa');\n",
              "          const dataTable =\n",
              "            await google.colab.kernel.invokeFunction('convertToInteractive',\n",
              "                                                     [key], {});\n",
              "          if (!dataTable) return;\n",
              "\n",
              "          const docLinkHtml = 'Like what you see? Visit the ' +\n",
              "            '<a target=\"_blank\" href=https://colab.research.google.com/notebooks/data_table.ipynb>data table notebook</a>'\n",
              "            + ' to learn more about interactive tables.';\n",
              "          element.innerHTML = '';\n",
              "          dataTable['output_type'] = 'display_data';\n",
              "          await google.colab.output.renderOutput(dataTable, element);\n",
              "          const docLink = document.createElement('div');\n",
              "          docLink.innerHTML = docLinkHtml;\n",
              "          element.appendChild(docLink);\n",
              "        }\n",
              "      </script>\n",
              "    </div>\n",
              "  </div>\n",
              "  "
            ]
          },
          "metadata": {},
          "execution_count": 37
        }
      ]
    },
    {
      "cell_type": "code",
      "source": [
        "#preparing training and test data for models\n",
        "X_train,X_test,y_train,y_test=train_test_split(X,y,test_size=0.2,random_state=0)\n"
      ],
      "metadata": {
        "id": "Xi-39mdA5KsD"
      },
      "execution_count": 38,
      "outputs": []
    },
    {
      "cell_type": "markdown",
      "source": [
        "# SMOTE (For balancing target variable values)"
      ],
      "metadata": {
        "id": "EVFRbgLh5stj"
      }
    },
    {
      "cell_type": "markdown",
      "source": [
        "As we observed earlier, target variable has huge imbalance for categories. Using regular simple oversampler and undersampler can lead to problems like overfitting or loss of important data. SMOTE is one technique where problem of overfitting can be solved as, it generates more data, rather than copying. And applying undersampling in pipeline can provide better dataset for models."
      ],
      "metadata": {
        "id": "pFSaXjvR9tel"
      }
    },
    {
      "cell_type": "code",
      "source": [
        "# building smote with undersampler\n",
        "over = SMOTE(random_state=1)\n",
        "under = RandomUnderSampler(random_state=42)\n",
        "# steps for SMOTE-under sampler\n",
        "steps = [('o', over), ('u', under)]\n",
        "# building pipeline\n",
        "pipeline = Pipeline(steps=steps)\n",
        "# preparing scaled data \n",
        "X_rescaled,y_rescaled=pipeline.fit_resample(X,y)\n",
        "print('Label Size before ',y.shape[0])\n",
        "print('Label Size After ',y_rescaled.shape[0])"
      ],
      "metadata": {
        "id": "J4KfIqD-qPUO",
        "colab": {
          "base_uri": "https://localhost:8080/"
        },
        "outputId": "98b97faa-cec1-4306-cd89-b998a0b22309"
      },
      "execution_count": 39,
      "outputs": [
        {
          "output_type": "stream",
          "name": "stdout",
          "text": [
            "Label Size before  3390\n",
            "Label Size After  5758\n"
          ]
        }
      ]
    },
    {
      "cell_type": "code",
      "source": [
        "# data preparation for smote with undersampler\n",
        "X_train_sm,X_test_sm,y_train_sm,y_test_sm=train_test_split(X_rescaled,y_rescaled,test_size=0.2,random_state=0)\n"
      ],
      "metadata": {
        "id": "dtn9iC1d1svF"
      },
      "execution_count": 40,
      "outputs": []
    },
    {
      "cell_type": "markdown",
      "source": [
        "# Applying different Models"
      ],
      "metadata": {
        "id": "2R9ulsgFsIZP"
      }
    },
    {
      "cell_type": "code",
      "source": [
        "# Function for generatinf final table with results\n",
        "def model_report(model,model_name,y_train,y_test,test_preds,train_preds,PR_curve=False):\n",
        "  print('\\n         Model Report for ',model_name,'\\n')\n",
        "  ROCAUC_train=roc_auc_score(y_train,train_preds)\n",
        "  ROCAUC_test=roc_auc_score(y_test,test_preds)\n",
        "  print('ROC_AUC score for train data: ',ROCAUC_train)\n",
        "  print('ROC_AUC score for test data: ',ROCAUC_test)\n",
        "  print('classification_report for Train\\n')\n",
        "  print(classification_report(y_train,train_preds))\n",
        "  print('\\nclassification_report for Test\\n')\n",
        "  print(classification_report(y_test,test_preds))\n",
        "  # displaying confusing matrix\n",
        "  disp=ConfusionMatrixDisplay(confusion_matrix(y_test,test_preds),\n",
        "                       display_labels=model.classes_)\n",
        "  disp.plot()\n",
        "  plt.show()\n",
        "  if PR_curve==True:\n",
        "    print('\\n')\n",
        "    precision_nsm, recall_nsm, _ = precision_recall_curve(y_test_sm,test_preds)\n",
        "    plt.plot(recall, precision, marker='.', label='svc')\n",
        "    # axis labels\n",
        "    plt.xlabel('Recall')\n",
        "    plt.ylabel('Precision')\n",
        "    # show the legend\n",
        "    plt.legend()\n",
        "    # show the plot\n",
        "    plt.show()\n",
        "  report=classification_report(y_test,test_preds,output_dict=True)  \n",
        "  df_classification_report = pd.DataFrame(report).transpose()\n",
        "  df_classification_report = df_classification_report\n",
        "\n",
        "  return df_classification_report[:2]\n",
        "\n",
        "\n"
      ],
      "metadata": {
        "id": "q28A1GUr_f34"
      },
      "execution_count": 41,
      "outputs": []
    },
    {
      "cell_type": "markdown",
      "source": [
        "# Logistic Regression (Baseline) "
      ],
      "metadata": {
        "id": "MfWyT8_qylrc"
      }
    },
    {
      "cell_type": "code",
      "source": [
        "# Logistic Regression model with cross validation\n",
        "LgR_model_CV = LogisticRegressionCV(\n",
        "        Cs=list(np.power(10.0, np.arange(-10, 10)))\n",
        "        ,penalty='l2'\n",
        "        ,scoring='roc_auc'\n",
        "        ,random_state=0,\n",
        "        cv=15\n",
        "        ,max_iter=10000\n",
        "        ,fit_intercept=True\n",
        "        ,tol=10)\n",
        "LgR_model_CV.fit(X_train_sm,y_train_sm)\n"
      ],
      "metadata": {
        "id": "DTMfyUk-qBB2",
        "colab": {
          "base_uri": "https://localhost:8080/"
        },
        "outputId": "6e3c7a8e-3855-40e8-aa53-4da0263ba43d"
      },
      "execution_count": 42,
      "outputs": [
        {
          "output_type": "execute_result",
          "data": {
            "text/plain": [
              "LogisticRegressionCV(Cs=[1e-10, 1e-09, 1e-08, 1e-07, 1e-06, 1e-05, 0.0001,\n",
              "                         0.001, 0.01, 0.1, 1.0, 10.0, 100.0, 1000.0, 10000.0,\n",
              "                         100000.0, 1000000.0, 10000000.0, 100000000.0,\n",
              "                         1000000000.0],\n",
              "                     cv=15, max_iter=10000, random_state=0, scoring='roc_auc',\n",
              "                     tol=10)"
            ]
          },
          "metadata": {},
          "execution_count": 42
        }
      ]
    },
    {
      "cell_type": "markdown",
      "source": [
        "### Report for Original Data"
      ],
      "metadata": {
        "id": "_yxKx0O_qoTa"
      }
    },
    {
      "cell_type": "code",
      "source": [
        "# predicting classes \n",
        "train_class_preds = LgR_model_CV.predict(X_train)\n",
        "test_class_preds =LgR_model_CV.predict(X_test)"
      ],
      "metadata": {
        "id": "bh9lY68yiw9_"
      },
      "execution_count": 43,
      "outputs": []
    },
    {
      "cell_type": "code",
      "source": [
        "# generating model report\n",
        "df_lgr=model_report(LgR_model_CV,'Logistic Regression',y_train,y_test,test_class_preds,train_class_preds)\n",
        "df_report=pd.DataFrame(columns=df_lgr.columns)\n",
        "df_report.loc['Logistic Regression']=df_lgr.iloc[1,:]"
      ],
      "metadata": {
        "colab": {
          "base_uri": "https://localhost:8080/",
          "height": 800
        },
        "id": "z8xmhYpZh6AF",
        "outputId": "a9fdf5dd-e81a-4144-c8c5-a53152f5b764"
      },
      "execution_count": 44,
      "outputs": [
        {
          "output_type": "stream",
          "name": "stdout",
          "text": [
            "\n",
            "         Model Report for  Logistic Regression \n",
            "\n",
            "ROC_AUC score for train data:  0.6482217378095902\n",
            "ROC_AUC score for test data:  0.6141114982578397\n",
            "classification_report for Train\n",
            "\n",
            "              precision    recall  f1-score   support\n",
            "\n",
            "           0       0.90      0.77      0.83      2305\n",
            "           1       0.29      0.52      0.37       407\n",
            "\n",
            "    accuracy                           0.74      2712\n",
            "   macro avg       0.60      0.65      0.60      2712\n",
            "weighted avg       0.81      0.74      0.76      2712\n",
            "\n",
            "\n",
            "classification_report for Test\n",
            "\n",
            "              precision    recall  f1-score   support\n",
            "\n",
            "           0       0.89      0.73      0.80       574\n",
            "           1       0.25      0.50      0.33       104\n",
            "\n",
            "    accuracy                           0.69       678\n",
            "   macro avg       0.57      0.61      0.57       678\n",
            "weighted avg       0.79      0.69      0.73       678\n",
            "\n"
          ]
        },
        {
          "output_type": "display_data",
          "data": {
            "text/plain": [
              "<Figure size 432x288 with 2 Axes>"
            ],
            "image/png": "[encoded data removed]"
          },
          "metadata": {
            "needs_background": "light"
          }
        }
      ]
    },
    {
      "cell_type": "markdown",
      "source": [
        "### Report for SMOTE data"
      ],
      "metadata": {
        "id": "Px53d4CDqbg2"
      }
    },
    {
      "cell_type": "code",
      "source": [
        "# predicting classes\n",
        "train_class_preds = LgR_model_CV.predict(X_train_sm)\n",
        "test_class_preds =LgR_model_CV.predict(X_test_sm)"
      ],
      "metadata": {
        "id": "Ph3UtEt46riA"
      },
      "execution_count": 45,
      "outputs": []
    },
    {
      "cell_type": "code",
      "source": [
        "# generating report\n",
        "df_lgr_sm=model_report(LgR_model_CV,'Logistic Regression(SMOTE)',y_train_sm,y_test_sm,test_class_preds,train_class_preds)\n",
        "df_report_sm=pd.DataFrame(columns=df_lgr.columns)\n",
        "df_report_sm.loc['Logistic Regression']=df_lgr_sm.iloc[1,:]"
      ],
      "metadata": {
        "colab": {
          "base_uri": "https://localhost:8080/",
          "height": 800
        },
        "outputId": "7cef77e7-aa4e-4566-e006-0763f0127c1b",
        "id": "yfCRzBgH6riB"
      },
      "execution_count": 46,
      "outputs": [
        {
          "output_type": "stream",
          "name": "stdout",
          "text": [
            "\n",
            "         Model Report for  Logistic Regression(SMOTE) \n",
            "\n",
            "ROC_AUC score for train data:  0.7198051948051949\n",
            "ROC_AUC score for test data:  0.7391725726274918\n",
            "classification_report for Train\n",
            "\n",
            "              precision    recall  f1-score   support\n",
            "\n",
            "           0       0.70      0.76      0.73      2310\n",
            "           1       0.74      0.68      0.71      2296\n",
            "\n",
            "    accuracy                           0.72      4606\n",
            "   macro avg       0.72      0.72      0.72      4606\n",
            "weighted avg       0.72      0.72      0.72      4606\n",
            "\n",
            "\n",
            "classification_report for Test\n",
            "\n",
            "              precision    recall  f1-score   support\n",
            "\n",
            "           0       0.72      0.78      0.75       569\n",
            "           1       0.76      0.70      0.73       583\n",
            "\n",
            "    accuracy                           0.74      1152\n",
            "   macro avg       0.74      0.74      0.74      1152\n",
            "weighted avg       0.74      0.74      0.74      1152\n",
            "\n"
          ]
        },
        {
          "output_type": "display_data",
          "data": {
            "text/plain": [
              "<Figure size 432x288 with 2 Axes>"
            ],
            "image/png": "[encoded data removed]"
          },
          "metadata": {
            "needs_background": "light"
          }
        }
      ]
    },
    {
      "cell_type": "markdown",
      "source": [
        "As we can see Model performed very poorly for both Data with the SMOTE and original data. We can go forward with tree based method."
      ],
      "metadata": {
        "id": "OUn4XX2Dci6E"
      }
    },
    {
      "cell_type": "markdown",
      "source": [
        "# Random Forest "
      ],
      "metadata": {
        "id": "ZK0iWm0DALLK"
      }
    },
    {
      "cell_type": "code",
      "source": [
        "# random forest with cross validation\n",
        "RF_model=RandomForestClassifier()\n",
        "grid_values={'n_estimators':[50,80,100],'max_depth':[3,5,7]}\n",
        "RF_model_CV=GridSearchCV(RF_model,param_grid=grid_values,scoring='roc_auc',cv=5)\n",
        "RF_model_CV.fit(X_train_sm,y_train_sm)\n"
      ],
      "metadata": {
        "colab": {
          "base_uri": "https://localhost:8080/"
        },
        "id": "HHQ-Q1o9VWLD",
        "outputId": "d3237442-3df8-4cec-c6dc-d38e66b5f727"
      },
      "execution_count": 47,
      "outputs": [
        {
          "output_type": "execute_result",
          "data": {
            "text/plain": [
              "GridSearchCV(cv=5, estimator=RandomForestClassifier(),\n",
              "             param_grid={'max_depth': [3, 5, 7], 'n_estimators': [50, 80, 100]},\n",
              "             scoring='roc_auc')"
            ]
          },
          "metadata": {},
          "execution_count": 47
        }
      ]
    },
    {
      "cell_type": "markdown",
      "source": [
        "### Report for Original Data"
      ],
      "metadata": {
        "id": "nNr-_oc-rWTn"
      }
    },
    {
      "cell_type": "code",
      "source": [
        "train_preds =  RF_model_CV.predict(X_train)\n",
        "test_preds  = RF_model_CV.predict(X_test)"
      ],
      "metadata": {
        "id": "oyHgNFmvq6K7"
      },
      "execution_count": 48,
      "outputs": []
    },
    {
      "cell_type": "code",
      "source": [
        "dict_rf=model_report(RF_model_CV,'RF',y_train,y_test,test_preds,train_preds)\n",
        "df_report.loc['Random Forest']=dict_rf.iloc[1,:]"
      ],
      "metadata": {
        "id": "JCF-4hk6rtIY",
        "colab": {
          "base_uri": "https://localhost:8080/",
          "height": 800
        },
        "outputId": "4a89ea59-0719-4ec2-eb4b-eb6b01fa84b3"
      },
      "execution_count": 49,
      "outputs": [
        {
          "output_type": "stream",
          "name": "stdout",
          "text": [
            "\n",
            "         Model Report for  RF \n",
            "\n",
            "ROC_AUC score for train data:  0.7339524695273069\n",
            "ROC_AUC score for test data:  0.7241021173948002\n",
            "classification_report for Train\n",
            "\n",
            "              precision    recall  f1-score   support\n",
            "\n",
            "           0       0.93      0.86      0.89      2305\n",
            "           1       0.43      0.61      0.51       407\n",
            "\n",
            "    accuracy                           0.82      2712\n",
            "   macro avg       0.68      0.73      0.70      2712\n",
            "weighted avg       0.85      0.82      0.83      2712\n",
            "\n",
            "\n",
            "classification_report for Test\n",
            "\n",
            "              precision    recall  f1-score   support\n",
            "\n",
            "           0       0.92      0.81      0.87       574\n",
            "           1       0.38      0.63      0.48       104\n",
            "\n",
            "    accuracy                           0.79       678\n",
            "   macro avg       0.65      0.72      0.67       678\n",
            "weighted avg       0.84      0.79      0.81       678\n",
            "\n"
          ]
        },
        {
          "output_type": "display_data",
          "data": {
            "text/plain": [
              "<Figure size 432x288 with 2 Axes>"
            ],
            "image/png": "[encoded data removed]"
          },
          "metadata": {
            "needs_background": "light"
          }
        }
      ]
    },
    {
      "cell_type": "markdown",
      "source": [
        "### Report for SMOTE data"
      ],
      "metadata": {
        "id": "dDDK4pIlrvKm"
      }
    },
    {
      "cell_type": "code",
      "source": [
        "train_preds =  RF_model_CV.predict(X_train_sm)\n",
        "test_preds  = RF_model_CV.predict(X_test_sm)"
      ],
      "metadata": {
        "id": "7h4gryQgcIGd"
      },
      "execution_count": 50,
      "outputs": []
    },
    {
      "cell_type": "code",
      "source": [
        "dict_rf_sm=model_report(RF_model_CV,'RF(SMOTE)',y_train_sm,y_test_sm,test_preds,train_preds)\n",
        "df_report_sm.loc['Random Forest']=dict_rf_sm.iloc[1,:]"
      ],
      "metadata": {
        "colab": {
          "base_uri": "https://localhost:8080/",
          "height": 800
        },
        "id": "utGG-F-ucH_z",
        "outputId": "ff0a70e0-c38a-4eb5-e528-22d1e3194860"
      },
      "execution_count": 51,
      "outputs": [
        {
          "output_type": "stream",
          "name": "stdout",
          "text": [
            "\n",
            "         Model Report for  RF(SMOTE) \n",
            "\n",
            "ROC_AUC score for train data:  0.8551736881005174\n",
            "ROC_AUC score for test data:  0.8089995689226382\n",
            "classification_report for Train\n",
            "\n",
            "              precision    recall  f1-score   support\n",
            "\n",
            "           0       0.85      0.86      0.86      2310\n",
            "           1       0.86      0.85      0.85      2296\n",
            "\n",
            "    accuracy                           0.86      4606\n",
            "   macro avg       0.86      0.86      0.86      4606\n",
            "weighted avg       0.86      0.86      0.86      4606\n",
            "\n",
            "\n",
            "classification_report for Test\n",
            "\n",
            "              precision    recall  f1-score   support\n",
            "\n",
            "           0       0.81      0.81      0.81       569\n",
            "           1       0.81      0.81      0.81       583\n",
            "\n",
            "    accuracy                           0.81      1152\n",
            "   macro avg       0.81      0.81      0.81      1152\n",
            "weighted avg       0.81      0.81      0.81      1152\n",
            "\n"
          ]
        },
        {
          "output_type": "display_data",
          "data": {
            "text/plain": [
              "<Figure size 432x288 with 2 Axes>"
            ],
            "image/png": "[encoded data removed]"
          },
          "metadata": {
            "needs_background": "light"
          }
        }
      ]
    },
    {
      "cell_type": "markdown",
      "source": [
        "Random Forest model produced 0.81 recall value as well as f1 score, but performed poorly on original data. "
      ],
      "metadata": {
        "id": "F2Kf9ENqc28F"
      }
    },
    {
      "cell_type": "markdown",
      "source": [
        "# XGBoost"
      ],
      "metadata": {
        "id": "1VaCtZrC51U9"
      }
    },
    {
      "cell_type": "code",
      "source": [
        "# building XGB model with cross validation\n",
        "XGB = XGBClassifier(colsample_bytree = 1,min_child_weight= 1, alpha = 10)\n",
        "grid_values={'n_estimators':[50,100,200,500],'max_depth':[4,6,8,10],'learning_rate':[0.01,0.5,0.1]}\n",
        "XGB=GridSearchCV(XGB,param_grid=grid_values,scoring='roc_auc',cv=5)\n"
      ],
      "metadata": {
        "id": "w3lMQWNV6vDW"
      },
      "execution_count": 52,
      "outputs": []
    },
    {
      "cell_type": "code",
      "source": [
        "# fitting the data \n",
        "XGB.fit(X_train_sm,y_train_sm)"
      ],
      "metadata": {
        "colab": {
          "base_uri": "https://localhost:8080/"
        },
        "id": "0LKaT_8b6_vm",
        "outputId": "f60c32f8-17fc-479f-bbd5-b3f1bbdd5928"
      },
      "execution_count": 53,
      "outputs": [
        {
          "output_type": "execute_result",
          "data": {
            "text/plain": [
              "GridSearchCV(cv=5, estimator=XGBClassifier(alpha=10),\n",
              "             param_grid={'learning_rate': [0.01, 0.5, 0.1],\n",
              "                         'max_depth': [4, 6, 8, 10],\n",
              "                         'n_estimators': [50, 100, 200, 500]},\n",
              "             scoring='roc_auc')"
            ]
          },
          "metadata": {},
          "execution_count": 53
        }
      ]
    },
    {
      "cell_type": "markdown",
      "source": [
        "### Report for SMOTE data"
      ],
      "metadata": {
        "id": "oVf9XiGGrxMe"
      }
    },
    {
      "cell_type": "code",
      "source": [
        "# predicting classes\n",
        "train_preds =  XGB.predict(X_train_sm)\n",
        "test_preds  = XGB.predict(X_test_sm)"
      ],
      "metadata": {
        "id": "aePjTtuU7Hf9"
      },
      "execution_count": 54,
      "outputs": []
    },
    {
      "cell_type": "code",
      "source": [
        "# generating report\n",
        "dict_xgb_sm=model_report(XGB,'XGB(SMOTE)',y_train_sm,y_test_sm,test_preds,train_preds)\n",
        "df_report_sm.loc['XGBoost']=dict_xgb_sm.iloc[1,:]\n"
      ],
      "metadata": {
        "colab": {
          "base_uri": "https://localhost:8080/",
          "height": 800
        },
        "id": "wF0p1blVBuJ9",
        "outputId": "dc4280c2-d277-4462-bb20-b28b199676b1"
      },
      "execution_count": 55,
      "outputs": [
        {
          "output_type": "stream",
          "name": "stdout",
          "text": [
            "\n",
            "         Model Report for  XGB(SMOTE) \n",
            "\n",
            "ROC_AUC score for train data:  1.0\n",
            "ROC_AUC score for test data:  0.9176597021044413\n",
            "classification_report for Train\n",
            "\n",
            "              precision    recall  f1-score   support\n",
            "\n",
            "           0       1.00      1.00      1.00      2310\n",
            "           1       1.00      1.00      1.00      2296\n",
            "\n",
            "    accuracy                           1.00      4606\n",
            "   macro avg       1.00      1.00      1.00      4606\n",
            "weighted avg       1.00      1.00      1.00      4606\n",
            "\n",
            "\n",
            "classification_report for Test\n",
            "\n",
            "              precision    recall  f1-score   support\n",
            "\n",
            "           0       0.91      0.93      0.92       569\n",
            "           1       0.93      0.91      0.92       583\n",
            "\n",
            "    accuracy                           0.92      1152\n",
            "   macro avg       0.92      0.92      0.92      1152\n",
            "weighted avg       0.92      0.92      0.92      1152\n",
            "\n"
          ]
        },
        {
          "output_type": "display_data",
          "data": {
            "text/plain": [
              "<Figure size 432x288 with 2 Axes>"
            ],
            "image/png": "[encoded data removed]"
          },
          "metadata": {
            "needs_background": "light"
          }
        }
      ]
    },
    {
      "cell_type": "markdown",
      "source": [
        "### Report for Original Data"
      ],
      "metadata": {
        "id": "4xlqE76trZ1e"
      }
    },
    {
      "cell_type": "code",
      "source": [
        "train_preds =  XGB.predict(X_train)\n",
        "test_preds  = XGB.predict(X_test)"
      ],
      "metadata": {
        "id": "YOccfvf0CHj9"
      },
      "execution_count": 56,
      "outputs": []
    },
    {
      "cell_type": "code",
      "source": [
        "dict_xgb=model_report(XGB,'XGB',y_train,y_test,test_preds,train_preds)\n",
        "df_report.loc['XGBoost']=dict_xgb.iloc[1,:]"
      ],
      "metadata": {
        "colab": {
          "base_uri": "https://localhost:8080/",
          "height": 800
        },
        "id": "fSvle-UGCIfC",
        "outputId": "067cee4d-b936-4061-cb95-4e65b20ff12b"
      },
      "execution_count": 57,
      "outputs": [
        {
          "output_type": "stream",
          "name": "stdout",
          "text": [
            "\n",
            "         Model Report for  XGB \n",
            "\n",
            "ROC_AUC score for train data:  0.9470262808657602\n",
            "ROC_AUC score for test data:  0.941470115250603\n",
            "classification_report for Train\n",
            "\n",
            "              precision    recall  f1-score   support\n",
            "\n",
            "           0       0.98      0.99      0.99      2305\n",
            "           1       0.93      0.91      0.92       407\n",
            "\n",
            "    accuracy                           0.98      2712\n",
            "   macro avg       0.96      0.95      0.95      2712\n",
            "weighted avg       0.98      0.98      0.98      2712\n",
            "\n",
            "\n",
            "classification_report for Test\n",
            "\n",
            "              precision    recall  f1-score   support\n",
            "\n",
            "           0       0.98      0.98      0.98       574\n",
            "           1       0.89      0.90      0.90       104\n",
            "\n",
            "    accuracy                           0.97       678\n",
            "   macro avg       0.93      0.94      0.94       678\n",
            "weighted avg       0.97      0.97      0.97       678\n",
            "\n"
          ]
        },
        {
          "output_type": "display_data",
          "data": {
            "text/plain": [
              "<Figure size 432x288 with 2 Axes>"
            ],
            "image/png": "[encoded data removed]"
          },
          "metadata": {
            "needs_background": "light"
          }
        }
      ]
    },
    {
      "cell_type": "markdown",
      "source": [
        "As we can see XGB model produced good results, with 0.89 recall and 0.9 f1 score for SMOTE data, although model produced recall, f1 score of 1.0 for training data, that means the model overfitted. \n",
        "\n",
        "For original data, model produced 0.94 racall and f1 score."
      ],
      "metadata": {
        "id": "8xgkafWxswnu"
      }
    },
    {
      "cell_type": "markdown",
      "source": [
        "# Naive-Bayes"
      ],
      "metadata": {
        "id": "Eey8nYjF2CTm"
      }
    },
    {
      "cell_type": "code",
      "source": [
        "# naive bayes model with cross validation\n",
        "nb_classifier = GaussianNB()\n",
        "\n",
        "params_NB = {'var_smoothing': np.logspace(0,-12, num=200)}\n",
        "gs_NB = GridSearchCV(estimator=nb_classifier, \n",
        "                 param_grid=params_NB, \n",
        "                 verbose=1, \n",
        "                 scoring='roc_auc') \n",
        "gs_NB.fit(X_train_sm, y_train_sm)\n",
        "\n",
        "gs_NB.best_params_"
      ],
      "metadata": {
        "colab": {
          "base_uri": "https://localhost:8080/"
        },
        "id": "PjXADEeO3NBt",
        "outputId": "75ab18d0-ca50-441f-df68-1f79dc61dea8"
      },
      "execution_count": 58,
      "outputs": [
        {
          "output_type": "stream",
          "name": "stdout",
          "text": [
            "Fitting 5 folds for each of 200 candidates, totalling 1000 fits\n"
          ]
        },
        {
          "output_type": "execute_result",
          "data": {
            "text/plain": [
              "{'var_smoothing': 0.00027682866303920667}"
            ]
          },
          "metadata": {},
          "execution_count": 58
        }
      ]
    },
    {
      "cell_type": "markdown",
      "source": [
        "### Report for SMOTE data"
      ],
      "metadata": {
        "id": "0fy61aVnrzGF"
      }
    },
    {
      "cell_type": "code",
      "source": [
        "# predicting classes\n",
        "train_preds =gs_NB.predict(X_train_sm)\n",
        "test_preds  = gs_NB.predict(X_test_sm)"
      ],
      "metadata": {
        "id": "a7iqZBQ-2Rio"
      },
      "execution_count": 59,
      "outputs": []
    },
    {
      "cell_type": "code",
      "source": [
        "# generating report\n",
        "dict_NB_sm=model_report(gs_NB,'GaussianNB(SMOTE)',y_train_sm,y_test_sm,test_preds,train_preds)\n",
        "df_report_sm.loc['Gaussian NB']=dict_NB_sm.iloc[1,:]"
      ],
      "metadata": {
        "colab": {
          "base_uri": "https://localhost:8080/",
          "height": 800
        },
        "id": "YJLwJbmXIlfX",
        "outputId": "ea8090c5-29bc-4089-e085-adee631cfe0c"
      },
      "execution_count": 60,
      "outputs": [
        {
          "output_type": "stream",
          "name": "stdout",
          "text": [
            "\n",
            "         Model Report for  GaussianNB(SMOTE) \n",
            "\n",
            "ROC_AUC score for train data:  0.6486115510505754\n",
            "ROC_AUC score for test data:  0.6497888323832548\n",
            "classification_report for Train\n",
            "\n",
            "              precision    recall  f1-score   support\n",
            "\n",
            "           0       0.62      0.76      0.68      2310\n",
            "           1       0.69      0.54      0.61      2296\n",
            "\n",
            "    accuracy                           0.65      4606\n",
            "   macro avg       0.66      0.65      0.64      4606\n",
            "weighted avg       0.66      0.65      0.64      4606\n",
            "\n",
            "\n",
            "classification_report for Test\n",
            "\n",
            "              precision    recall  f1-score   support\n",
            "\n",
            "           0       0.62      0.76      0.68       569\n",
            "           1       0.70      0.54      0.61       583\n",
            "\n",
            "    accuracy                           0.65      1152\n",
            "   macro avg       0.66      0.65      0.64      1152\n",
            "weighted avg       0.66      0.65      0.64      1152\n",
            "\n"
          ]
        },
        {
          "output_type": "display_data",
          "data": {
            "text/plain": [
              "<Figure size 432x288 with 2 Axes>"
            ],
            "image/png": "[encoded data removed]"
          },
          "metadata": {
            "needs_background": "light"
          }
        }
      ]
    },
    {
      "cell_type": "markdown",
      "source": [
        "### Report for Original Data"
      ],
      "metadata": {
        "id": "OOqtB0nDrbf-"
      }
    },
    {
      "cell_type": "code",
      "source": [
        "# predicting classes\n",
        "train_preds =  gs_NB.predict(X_train)\n",
        "test_preds  = gs_NB.predict(X_test)"
      ],
      "metadata": {
        "id": "vxZCYlJ1Ilun"
      },
      "execution_count": 61,
      "outputs": []
    },
    {
      "cell_type": "code",
      "source": [
        "# generating report\n",
        "dict_NB=model_report(gs_NB,'GaussianNB',y_train,y_test,test_preds,train_preds)\n",
        "df_report.loc['Gaussian NB']=dict_NB.iloc[1,:]"
      ],
      "metadata": {
        "colab": {
          "base_uri": "https://localhost:8080/",
          "height": 800
        },
        "outputId": "0374f752-a305-40d3-cd07-657df51a1051",
        "id": "pQIT4f0FIluo"
      },
      "execution_count": 62,
      "outputs": [
        {
          "output_type": "stream",
          "name": "stdout",
          "text": [
            "\n",
            "         Model Report for  GaussianNB \n",
            "\n",
            "ROC_AUC score for train data:  0.6498819466281506\n",
            "ROC_AUC score for test data:  0.6224370142053068\n",
            "classification_report for Train\n",
            "\n",
            "              precision    recall  f1-score   support\n",
            "\n",
            "           0       0.90      0.77      0.83      2305\n",
            "           1       0.29      0.53      0.37       407\n",
            "\n",
            "    accuracy                           0.73      2712\n",
            "   macro avg       0.60      0.65      0.60      2712\n",
            "weighted avg       0.81      0.73      0.76      2712\n",
            "\n",
            "\n",
            "classification_report for Test\n",
            "\n",
            "              precision    recall  f1-score   support\n",
            "\n",
            "           0       0.89      0.72      0.79       574\n",
            "           1       0.25      0.53      0.34       104\n",
            "\n",
            "    accuracy                           0.69       678\n",
            "   macro avg       0.57      0.62      0.57       678\n",
            "weighted avg       0.80      0.69      0.73       678\n",
            "\n"
          ]
        },
        {
          "output_type": "display_data",
          "data": {
            "text/plain": [
              "<Figure size 432x288 with 2 Axes>"
            ],
            "image/png": "[encoded data removed]"
          },
          "metadata": {
            "needs_background": "light"
          }
        }
      ]
    },
    {
      "cell_type": "markdown",
      "source": [
        "Gaussian Naive bayes model produced poor results for both original data and data with SMOTE sampling."
      ],
      "metadata": {
        "id": "SAcSRdy9tuOC"
      }
    },
    {
      "cell_type": "markdown",
      "source": [
        "# Adaboost"
      ],
      "metadata": {
        "id": "Y9OZR7Km5nUw"
      }
    },
    {
      "cell_type": "code",
      "source": [
        "\n",
        "grid={'n_estimators':[1000],'learning_rate':[1]}\n",
        "cv = RepeatedStratifiedKFold(n_splits=10, n_repeats=3, random_state=1)\n",
        "model = AdaBoostClassifier()\n",
        "ADA = GridSearchCV(estimator=model, param_grid=grid, n_jobs=-1, cv=cv, scoring='accuracy')\n"
      ],
      "metadata": {
        "id": "ALeifBfs5rmh"
      },
      "execution_count": 63,
      "outputs": []
    },
    {
      "cell_type": "code",
      "source": [
        "ADA_model=ADA.fit(X_train_sm,y_train_sm)"
      ],
      "metadata": {
        "id": "uxni9i5W5yKx"
      },
      "execution_count": 64,
      "outputs": []
    },
    {
      "cell_type": "markdown",
      "source": [
        "### Report for SMOTE data"
      ],
      "metadata": {
        "id": "jKnhJIwyr0uV"
      }
    },
    {
      "cell_type": "code",
      "source": [
        "train_preds =ADA_model.predict(X_train_sm)\n",
        "test_preds  =ADA_model.predict(X_test_sm)"
      ],
      "metadata": {
        "id": "hRlTmEnO59uf"
      },
      "execution_count": 65,
      "outputs": []
    },
    {
      "cell_type": "code",
      "source": [
        "dict_adb_sm=model_report(ADA_model,'Adaboost(SMOTE)',y_train_sm,y_test_sm,test_preds,train_preds)\n",
        "df_report_sm.loc['ADA Boost']=dict_adb_sm.iloc[1,:]"
      ],
      "metadata": {
        "colab": {
          "base_uri": "https://localhost:8080/",
          "height": 800
        },
        "id": "ng5zIcGRMmpR",
        "outputId": "0afd8651-21fb-4e3a-f8f5-c5b017210901"
      },
      "execution_count": 66,
      "outputs": [
        {
          "output_type": "stream",
          "name": "stdout",
          "text": [
            "\n",
            "         Model Report for  Adaboost(SMOTE) \n",
            "\n",
            "ROC_AUC score for train data:  0.893711065357407\n",
            "ROC_AUC score for test data:  0.8606338947387461\n",
            "classification_report for Train\n",
            "\n",
            "              precision    recall  f1-score   support\n",
            "\n",
            "           0       0.86      0.93      0.90      2310\n",
            "           1       0.93      0.85      0.89      2296\n",
            "\n",
            "    accuracy                           0.89      4606\n",
            "   macro avg       0.90      0.89      0.89      4606\n",
            "weighted avg       0.90      0.89      0.89      4606\n",
            "\n",
            "\n",
            "classification_report for Test\n",
            "\n",
            "              precision    recall  f1-score   support\n",
            "\n",
            "           0       0.84      0.89      0.86       569\n",
            "           1       0.89      0.83      0.86       583\n",
            "\n",
            "    accuracy                           0.86      1152\n",
            "   macro avg       0.86      0.86      0.86      1152\n",
            "weighted avg       0.86      0.86      0.86      1152\n",
            "\n"
          ]
        },
        {
          "output_type": "display_data",
          "data": {
            "text/plain": [
              "<Figure size 432x288 with 2 Axes>"
            ],
            "image/png": "[encoded data removed]"
          },
          "metadata": {
            "needs_background": "light"
          }
        }
      ]
    },
    {
      "cell_type": "markdown",
      "source": [
        "### Report for Original Data"
      ],
      "metadata": {
        "id": "_d1eJX8frnjG"
      }
    },
    {
      "cell_type": "code",
      "source": [
        "train_preds =  gs_NB.predict(X_train)\n",
        "test_preds  = gs_NB.predict(X_test)"
      ],
      "metadata": {
        "id": "zvaK0-umMnGl"
      },
      "execution_count": 67,
      "outputs": []
    },
    {
      "cell_type": "code",
      "source": [
        "dict_adb=model_report(ADA_model,'Adaboost',y_train,y_test,test_preds,train_preds)\n",
        "df_report.loc['ADA Boost']=dict_adb.iloc[1,:]"
      ],
      "metadata": {
        "colab": {
          "base_uri": "https://localhost:8080/",
          "height": 800
        },
        "outputId": "2dc91a1a-4639-4728-d591-c482b329b9dd",
        "id": "XulcktM5MnGm"
      },
      "execution_count": 68,
      "outputs": [
        {
          "output_type": "stream",
          "name": "stdout",
          "text": [
            "\n",
            "         Model Report for  Adaboost \n",
            "\n",
            "ROC_AUC score for train data:  0.6498819466281506\n",
            "ROC_AUC score for test data:  0.6224370142053068\n",
            "classification_report for Train\n",
            "\n",
            "              precision    recall  f1-score   support\n",
            "\n",
            "           0       0.90      0.77      0.83      2305\n",
            "           1       0.29      0.53      0.37       407\n",
            "\n",
            "    accuracy                           0.73      2712\n",
            "   macro avg       0.60      0.65      0.60      2712\n",
            "weighted avg       0.81      0.73      0.76      2712\n",
            "\n",
            "\n",
            "classification_report for Test\n",
            "\n",
            "              precision    recall  f1-score   support\n",
            "\n",
            "           0       0.89      0.72      0.79       574\n",
            "           1       0.25      0.53      0.34       104\n",
            "\n",
            "    accuracy                           0.69       678\n",
            "   macro avg       0.57      0.62      0.57       678\n",
            "weighted avg       0.80      0.69      0.73       678\n",
            "\n"
          ]
        },
        {
          "output_type": "display_data",
          "data": {
            "text/plain": [
              "<Figure size 432x288 with 2 Axes>"
            ],
            "image/png": "[encoded data removed]"
          },
          "metadata": {
            "needs_background": "light"
          }
        }
      ]
    },
    {
      "cell_type": "markdown",
      "source": [
        "Adaboost model performed poorly for original data with recall score of 0.53 only."
      ],
      "metadata": {
        "id": "8oJa2Yuzt85P"
      }
    },
    {
      "cell_type": "markdown",
      "source": [
        "# KNN"
      ],
      "metadata": {
        "id": "-PjcY70FErZa"
      }
    },
    {
      "cell_type": "code",
      "source": [
        "knn = KNeighborsClassifier()\n",
        "param_grid = {'n_neighbors': list(range(50))}\n",
        "KNN=GridSearchCV(knn,param_grid=param_grid,scoring='roc_auc',cv=5)"
      ],
      "metadata": {
        "id": "iALfVbEEE2iU"
      },
      "execution_count": 69,
      "outputs": []
    },
    {
      "cell_type": "code",
      "source": [
        "KNN.fit(X_train_sm,y_train_sm)"
      ],
      "metadata": {
        "colab": {
          "base_uri": "https://localhost:8080/"
        },
        "outputId": "f5e1c856-37de-4389-f552-0cf6ae37d698",
        "id": "PPy8SMzyFaeq"
      },
      "execution_count": 70,
      "outputs": [
        {
          "output_type": "execute_result",
          "data": {
            "text/plain": [
              "GridSearchCV(cv=5, estimator=KNeighborsClassifier(),\n",
              "             param_grid={'n_neighbors': [0, 1, 2, 3, 4, 5, 6, 7, 8, 9, 10, 11,\n",
              "                                         12, 13, 14, 15, 16, 17, 18, 19, 20, 21,\n",
              "                                         22, 23, 24, 25, 26, 27, 28, 29, ...]},\n",
              "             scoring='roc_auc')"
            ]
          },
          "metadata": {},
          "execution_count": 70
        }
      ]
    },
    {
      "cell_type": "markdown",
      "source": [
        "### Report for SMOTE data"
      ],
      "metadata": {
        "id": "tEdQempdr6X9"
      }
    },
    {
      "cell_type": "code",
      "source": [
        "train_preds =KNN.predict(X_train_sm)\n",
        "test_preds  =KNN.predict(X_test_sm)"
      ],
      "metadata": {
        "id": "WkNMYPczFaer"
      },
      "execution_count": 71,
      "outputs": []
    },
    {
      "cell_type": "code",
      "source": [
        "dict_knn_sm=model_report(KNN,'KNN(SMOTE)',y_train_sm,y_test_sm,test_preds,train_preds)\n",
        "df_report_sm.loc['KNN']=dict_knn_sm.iloc[1,:]"
      ],
      "metadata": {
        "colab": {
          "base_uri": "https://localhost:8080/",
          "height": 800
        },
        "id": "GF6tfckNTwHL",
        "outputId": "85a45528-72bd-49b9-83b1-def17ebf5ea5"
      },
      "execution_count": 72,
      "outputs": [
        {
          "output_type": "stream",
          "name": "stdout",
          "text": [
            "\n",
            "         Model Report for  KNN(SMOTE) \n",
            "\n",
            "ROC_AUC score for train data:  0.9274416640270299\n",
            "ROC_AUC score for test data:  0.8484642492169765\n",
            "classification_report for Train\n",
            "\n",
            "              precision    recall  f1-score   support\n",
            "\n",
            "           0       0.98      0.87      0.92      2310\n",
            "           1       0.88      0.98      0.93      2296\n",
            "\n",
            "    accuracy                           0.93      4606\n",
            "   macro avg       0.93      0.93      0.93      4606\n",
            "weighted avg       0.93      0.93      0.93      4606\n",
            "\n",
            "\n",
            "classification_report for Test\n",
            "\n",
            "              precision    recall  f1-score   support\n",
            "\n",
            "           0       0.95      0.74      0.83       569\n",
            "           1       0.79      0.96      0.87       583\n",
            "\n",
            "    accuracy                           0.85      1152\n",
            "   macro avg       0.87      0.85      0.85      1152\n",
            "weighted avg       0.87      0.85      0.85      1152\n",
            "\n"
          ]
        },
        {
          "output_type": "display_data",
          "data": {
            "text/plain": [
              "<Figure size 432x288 with 2 Axes>"
            ],
            "image/png": "[encoded data removed]"
          },
          "metadata": {
            "needs_background": "light"
          }
        }
      ]
    },
    {
      "cell_type": "markdown",
      "source": [
        "### Report for Original Data"
      ],
      "metadata": {
        "id": "ydOjmwMWrq7G"
      }
    },
    {
      "cell_type": "code",
      "source": [
        "train_preds =KNN.predict(X_train)\n",
        "test_preds  =KNN.predict(X_test)"
      ],
      "metadata": {
        "id": "i9gidvHkUff4"
      },
      "execution_count": 73,
      "outputs": []
    },
    {
      "cell_type": "code",
      "source": [
        "dict_knn=model_report(KNN,'KNN',y_train,y_test,test_preds,train_preds)\n",
        "df_report.loc['KNN']=dict_knn.iloc[1,:]"
      ],
      "metadata": {
        "colab": {
          "base_uri": "https://localhost:8080/",
          "height": 800
        },
        "outputId": "398839b7-f77d-44ff-cf2c-9f28104e0134",
        "id": "or-dJN9fUff5"
      },
      "execution_count": 74,
      "outputs": [
        {
          "output_type": "stream",
          "name": "stdout",
          "text": [
            "\n",
            "         Model Report for  KNN \n",
            "\n",
            "ROC_AUC score for train data:  0.8947379641522808\n",
            "ROC_AUC score for test data:  0.8892723130528009\n",
            "classification_report for Train\n",
            "\n",
            "              precision    recall  f1-score   support\n",
            "\n",
            "           0       0.99      0.85      0.91      2305\n",
            "           1       0.52      0.94      0.67       407\n",
            "\n",
            "    accuracy                           0.86      2712\n",
            "   macro avg       0.75      0.89      0.79      2712\n",
            "weighted avg       0.92      0.86      0.88      2712\n",
            "\n",
            "\n",
            "classification_report for Test\n",
            "\n",
            "              precision    recall  f1-score   support\n",
            "\n",
            "           0       0.99      0.84      0.91       574\n",
            "           1       0.51      0.94      0.66       104\n",
            "\n",
            "    accuracy                           0.85       678\n",
            "   macro avg       0.75      0.89      0.78       678\n",
            "weighted avg       0.91      0.85      0.87       678\n",
            "\n"
          ]
        },
        {
          "output_type": "display_data",
          "data": {
            "text/plain": [
              "<Figure size 432x288 with 2 Axes>"
            ],
            "image/png": "[encoded data removed]"
          },
          "metadata": {
            "needs_background": "light"
          }
        }
      ]
    },
    {
      "cell_type": "markdown",
      "source": [
        "KNN model produced great recall and f1 scores for class 1, but performed poorly for class 0 for original data."
      ],
      "metadata": {
        "id": "rD9QlzwuuQBc"
      }
    },
    {
      "cell_type": "markdown",
      "source": [
        "# SVC"
      ],
      "metadata": {
        "id": "aUHe1ydhzp8J"
      }
    },
    {
      "cell_type": "code",
      "source": [
        "# setting up SVC model with cross validation\n",
        "param_grid = {'C': [1,10,100], 'gamma': [1,0.1,0.5]}\n",
        "svc_model=GridSearchCV(SVC(kernel='rbf',class_weight='balanced',probability=True),param_grid=param_grid,scoring='f1',cv=5)"
      ],
      "metadata": {
        "id": "CLIlGgWIpCQh"
      },
      "execution_count": 75,
      "outputs": []
    },
    {
      "cell_type": "code",
      "source": [
        "# fitting the training data\n",
        "svc_model.fit(X_train_sm,y_train_sm)"
      ],
      "metadata": {
        "colab": {
          "base_uri": "https://localhost:8080/"
        },
        "id": "OGtYHxg9nzxs",
        "outputId": "9a644103-0aab-4ac3-8eb8-9bc6faedbf47"
      },
      "execution_count": 76,
      "outputs": [
        {
          "output_type": "execute_result",
          "data": {
            "text/plain": [
              "GridSearchCV(cv=5, estimator=SVC(class_weight='balanced', probability=True),\n",
              "             param_grid={'C': [1, 10, 100], 'gamma': [1, 0.1, 0.5]},\n",
              "             scoring='f1')"
            ]
          },
          "metadata": {},
          "execution_count": 76
        }
      ]
    },
    {
      "cell_type": "markdown",
      "source": [
        "### Report for SMOTE data"
      ],
      "metadata": {
        "id": "mph_IyD9r3v8"
      }
    },
    {
      "cell_type": "code",
      "source": [
        "# predicting classes\n",
        "train_preds_sm =svc_model.predict(X_train_sm)\n",
        "test_preds_sm=svc_model.predict(X_test_sm)"
      ],
      "metadata": {
        "id": "8xb_PiHjleZC"
      },
      "execution_count": 77,
      "outputs": []
    },
    {
      "cell_type": "code",
      "source": [
        "# generating report\n",
        "dict_svc_sm=model_report(svc_model,'SVC(SMOTE)',y_train_sm,y_test_sm,test_preds_sm,train_preds_sm)\n",
        "df_report_sm.loc['Support Vector Machine']=dict_svc_sm.iloc[1,:]"
      ],
      "metadata": {
        "colab": {
          "base_uri": "https://localhost:8080/",
          "height": 800
        },
        "id": "3KZokpdGImdF",
        "outputId": "27987afb-a883-4532-f10f-caa63e3289bb"
      },
      "execution_count": 78,
      "outputs": [
        {
          "output_type": "stream",
          "name": "stdout",
          "text": [
            "\n",
            "         Model Report for  SVC(SMOTE) \n",
            "\n",
            "ROC_AUC score for train data:  1.0\n",
            "ROC_AUC score for test data:  0.9522815447642188\n",
            "classification_report for Train\n",
            "\n",
            "              precision    recall  f1-score   support\n",
            "\n",
            "           0       1.00      1.00      1.00      2310\n",
            "           1       1.00      1.00      1.00      2296\n",
            "\n",
            "    accuracy                           1.00      4606\n",
            "   macro avg       1.00      1.00      1.00      4606\n",
            "weighted avg       1.00      1.00      1.00      4606\n",
            "\n",
            "\n",
            "classification_report for Test\n",
            "\n",
            "              precision    recall  f1-score   support\n",
            "\n",
            "           0       0.95      0.95      0.95       569\n",
            "           1       0.96      0.95      0.95       583\n",
            "\n",
            "    accuracy                           0.95      1152\n",
            "   macro avg       0.95      0.95      0.95      1152\n",
            "weighted avg       0.95      0.95      0.95      1152\n",
            "\n"
          ]
        },
        {
          "output_type": "display_data",
          "data": {
            "text/plain": [
              "<Figure size 432x288 with 2 Axes>"
            ],
            "image/png": "[encoded data removed]"
          },
          "metadata": {
            "needs_background": "light"
          }
        }
      ]
    },
    {
      "cell_type": "markdown",
      "source": [
        "### Report for Original Data"
      ],
      "metadata": {
        "id": "dTBDCbNArotO"
      }
    },
    {
      "cell_type": "code",
      "source": [
        "# predicting classes\n",
        "train_preds=svc_model.predict(X_train)\n",
        "test_preds  =svc_model.predict(X_test)"
      ],
      "metadata": {
        "id": "9AK9zdjSSSmm"
      },
      "execution_count": 79,
      "outputs": []
    },
    {
      "cell_type": "code",
      "source": [
        "# generating report\n",
        "dict_svc=model_report(svc_model,'SVC',y_train,y_test,test_preds,train_preds)\n",
        "df_report.loc['Support Vector Machine']=dict_svc.iloc[1,:]"
      ],
      "metadata": {
        "colab": {
          "base_uri": "https://localhost:8080/",
          "height": 800
        },
        "outputId": "8296662c-59a5-4d52-a709-c1f3cbb57090",
        "id": "pfw-Rk-MSSmm"
      },
      "execution_count": 80,
      "outputs": [
        {
          "output_type": "stream",
          "name": "stdout",
          "text": [
            "\n",
            "         Model Report for  SVC \n",
            "\n",
            "ROC_AUC score for train data:  0.9833765929210616\n",
            "ROC_AUC score for test data:  0.994773519163763\n",
            "classification_report for Train\n",
            "\n",
            "              precision    recall  f1-score   support\n",
            "\n",
            "           0       1.00      0.99      0.99      2305\n",
            "           1       0.95      0.98      0.96       407\n",
            "\n",
            "    accuracy                           0.99      2712\n",
            "   macro avg       0.97      0.98      0.98      2712\n",
            "weighted avg       0.99      0.99      0.99      2712\n",
            "\n",
            "\n",
            "classification_report for Test\n",
            "\n",
            "              precision    recall  f1-score   support\n",
            "\n",
            "           0       1.00      0.99      0.99       574\n",
            "           1       0.95      1.00      0.97       104\n",
            "\n",
            "    accuracy                           0.99       678\n",
            "   macro avg       0.97      0.99      0.98       678\n",
            "weighted avg       0.99      0.99      0.99       678\n",
            "\n"
          ]
        },
        {
          "output_type": "display_data",
          "data": {
            "text/plain": [
              "<Figure size 432x288 with 2 Axes>"
            ],
            "image/png": "[encoded data removed]"
          },
          "metadata": {
            "needs_background": "light"
          }
        }
      ]
    },
    {
      "cell_type": "markdown",
      "source": [
        "SVC model performed great for both original and SMOTE sampled data, with 0.95 recall and f1 score values for SMOTE sampled data.\n",
        "\n",
        "For original data, model produced very fruitful results with recall score of 1.0 and f1 score of 0.97. \n",
        "\n",
        "As SVC model predicts most accurately among all experimentation, this model will be selected as final model."
      ],
      "metadata": {
        "id": "4msH_BHeuuz-"
      }
    }
  ]
}